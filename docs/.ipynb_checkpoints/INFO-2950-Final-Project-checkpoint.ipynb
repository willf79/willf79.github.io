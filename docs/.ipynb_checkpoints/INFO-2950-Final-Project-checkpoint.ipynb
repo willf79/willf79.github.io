{
 "cells": [
  {
   "cell_type": "markdown",
   "metadata": {},
   "source": [
    "## Link to Google Drive Folder w/ Files:\n",
    "\n",
    "https://drive.google.com/drive/folders/1vijUMhDe9qtJcSmORocCwUis7_dg3ziM?usp=sharing\n",
    "\n",
    "## GitHub Repository:\n",
    "\n",
    "https://github.coecis.cornell.edu/wf74/info2950project"
   ]
  },
  {
   "cell_type": "markdown",
   "metadata": {},
   "source": [
    "# Introduction \n",
    "## Research Questions:\n",
    " - Is there racial profiling in policing?\n",
    " - Is racial bias affected by location?\n",
    "     - Does a city in the south (Austin,TX) arrest more minorities than one in the north (New York City, NY) or vice versa?\n",
    "     \n",
    "## Initial Problems:\n",
    " - Years of Arrest Records do not match up exactly\n",
    "     - APD: 2014-2019\n",
    "     - NYPD: 2006-2019\n",
    " - Census data is from 2010, bit earlier than arrest records\n",
    " - Some of the APD arrest record CSVs use different columns names\n",
    "     - Mainly focused on \"APD_RACE_DESC\" which is consistent across all CSV files\n",
    " - Only pulled only Black or White ethnicites so far, not accounting for mixed races, which are recorded in both census and arrest data\n",
    "     - Could do White vs. Everything else so that it is more general for minorities, rather than just Black or African American ethnicity\n",
    "     \n",
    "   When exploring racial bias in policing, it is obvious that there will be many factors which could induce an encounter where there is obvious racial bias. That specific officer's predisposition towards other races, current cultural influence, how violent the crime is, etc. Thus, there are far too many factors to ever concusively say that a specific police department or region has a racial bias issue.\n",
    "   \n",
    "    One might be able to say that a disproportionate number of minorities or a specific race are arrested in a certain time frame, but one cannot claim a consistent issue with racial bias in a police department from that analysis. In my opinion, there would need to be an overwhelming number, the majority of police encounters, each individually examined and proven by experts to have racial bias issues involved, to be able to claim there is a consistent, widespread issue. My point is that each arrest is so nuanced that any reasonable claims about the racial bias of an entire police department would be near impossible.\n",
    "    \n",
    "    Thus, the best way to find significant analysis from this dataset would be to look at number of arrests for each race, over time. This can tell us if there are any races that are arrested more often than others and if this trend is consistent over time; if there is any change in this trend over time. The census data was found in order to give context. If there is a discrepany between the percentage of a certain race in the census versus the arrest records, this could further strengthen the claim of racial bias. It is near impossible to fully prove that there is racial bias, but proving trends exist through significant statistical analysis can make the claim more credible."
   ]
  },
  {
   "cell_type": "markdown",
   "metadata": {},
   "source": [
    "## Initial Questions:\n",
    "\n",
    "- Do I need to include mixed races? Is black vs. white ethnicity efficient or would it be better to do white vs. minorities?\n",
    "- How can I implement the data about their offense? The race known value?\n",
    "- Is there a better way to show the data with a bar chart? Include more ethnicites here? Could show data from both areas on one bar chart."
   ]
  },
  {
   "cell_type": "markdown",
   "metadata": {},
   "source": [
    "# Data Description\n",
    "## Arrest Records:\n",
    " - Observations: Individual Arrests\n",
    " - Important Attributes: \n",
    "     - APD: APD_RACE_DESC, REASON_FOR_STOP_DESC\n",
    "     - NYPD: PERP_RACE, OFNS_DESC\n",
    " - Both datasets were created with the intention to examine racial profiling in those police departments.\n",
    " - Published by: data.austintexas.gov, funded by the government?\n",
    " - The arrest record data is dependent on accurate police reports, which could have issues with human error or even officers trying to reduce the perception of racial profiling.\n",
    " - Not much preprocessing, data includes primary key codes and descriptions that look like they were pulled directly from reports.\n",
    " - Other than the police officer and whoever processes police reports, there was no human influence. Atleast in the process of pulling data from police reports, which was most likely done by a machine.\n",
    " - Links:\n",
    "     - NYPD Arrest (2006 - 2019):\n",
    "         - NYPD Arrests: https://catalog.data.gov/dataset/nypd-arrests-data-historic\n",
    "         - NYPD Arrests Description and Legend: https://data.cityofnewyork.us/Public-Safety/NYPD-Arrests-Data-Historic-/8h9b-rp9u\n",
    "     \n",
    "     - APD (2014 - 2019): \n",
    "         - 2014 APD Arrests: https://catalog.data.gov/dataset/2014-racial-profiling-arrests\n",
    "         - 2014 APD Arrests Description and Legend: https://data.austintexas.gov/Public-Safety/2014-Racial-Profiling-Arrests/fk9e-2udt\n",
    "         \n",
    "         - 2015 APD Arrests: https://catalog.data.gov/dataset/2015-racial-profiling-arrests\n",
    "         - 2015 APD Arrests Description and Legend: https://data.austintexas.gov/Public-Safety/2015-Racial-Profiling-Arrests/nbjz-52e4\n",
    "         \n",
    "         - 2016 APD Arrests: https://catalog.data.gov/dataset/2016-rp-arrests\n",
    "         - 2016 APD Arrests Description and Legend: https://data.austintexas.gov/Public-Safety/2016-RP-Arrests/bmz9-cdnt \n",
    "         \n",
    "         - 2017 APD Arrests: https://catalog.data.gov/dataset/2017-racial-profiling-arrests\n",
    "         - 2017 APD Arrests Description and Legend: https://data.austintexas.gov/Public-Safety/2017-Racial-Profiling-Arrests/x4p3-hj3y\n",
    "         \n",
    "         - 2018 APD Arrests: https://catalog.data.gov/dataset/2018-rp-arrests\n",
    "         - 2018 APD Arrests Description and Legend: https://data.austintexas.gov/Public-Safety/2018-RP-Arrests/xfke-9bsj\n",
    "         \n",
    "         - 2019 APD Arrests: https://catalog.data.gov/dataset/2019-racial-profiling-rp-arrests\n",
    "         - 2019 APD Arrests Description and Legend: https://data.austintexas.gov/Public-Safety/2019-Racial-Profiling-RP-Arrests/m4cc-q8pr\n",
    "         \n",
    "## Census Data:\n",
    " - Observations: Age Groups in a given county\n",
    " - Important Attributes: \n",
    "     - There are many different types of ethnicities listed in the census data\n",
    "     - Mainly focused on BA_MALE, BA_FEMALE WA_MALE, WA_FEMALE\n",
    "     - BA = Black or African American alone, WA = White alone\n",
    "     - These are people that are only black or african american, or white, no mixed ethnicities included so far\n",
    " - Dataset was created and as part of the 2010 US Census. \n",
    " - Funded and published by the US Census Bureau.\n",
    " - If people didn't respond to the census, they wouldn't have been counted.\n",
    " - There was not much preprocessing, just aggregation of reports from people collecting the census data.\n",
    " - There could be human error here with the people collecting the census data.\n",
    " - Links:\n",
    "     - Census Dataset: https://www2.census.gov/programs-surveys/popest/datasets/2000-2010/intercensal/county/\n",
    "     \n",
    "     - Austin Census (2000-2010): https://www2.census.gov/programs-surveys/popest/datasets/2000-2010/intercensal/county/co-est00int-alldata-48.csv\n",
    "         - co-est00int-alldata-48.csv\n",
    "         \n",
    "     - NYC Census (2000-2010): https://www2.census.gov/programs-surveys/popest/datasets/2000-2010/intercensal/county/co-est00int-alldata-36.csv\n",
    "         - co-est00int-alldata-36.csv\n",
    "         \n",
    "     - Census Legend: https://www2.census.gov/programs-surveys/popest/datasets/2000-2010/intercensal/county/co-est00int-alldata-4-25-13.pdf\n",
    "         - co-est00int-alldata-4-25-13.csv\n",
    "         \n",
    "     - NYPD Penal Code: http://ypdcrime.com/penal.law/offense_level.htm\n",
    "         \n",
    "         - \"Felony\" means an offense for which a sentence to a term of imprisonment in excess of one year may be imposed.\n",
    "         - \"Misdemeanor\" means an offense, other than a \"traffic infraction,\" for which a sentence to a term of imprisonment in excess of fifteen days may be imposed, but for which a sentence to a term of imprisonment in excess of one year cannot be imposed.\n",
    "         - \"Violation\" means an offense, other than a \"traffic infraction,\" for which a sentence to a term of imprisonment in excess of fifteen days cannot be imposed.\n",
    "         - \"Traffic Infraction\" means any offense defined as \"traffic infraction\" by section one hundred fifty-five of the vehicle and traffic law."
   ]
  },
  {
   "cell_type": "markdown",
   "metadata": {},
   "source": [
    "## Project Phase III: Preregistration of analyses\n",
    "\n",
    "Analysis 1:\n",
    "    Which ethnicity is arrested more often in each city? Is this consistent with the breakdown of ethnicities from the census data?\n",
    "        \n",
    "        Steps:\n",
    "            - Find percentage that each minority is arrested for each arrest record dataset.\n",
    "            - Find breakdown of race in terms of percentage for the census data.\n",
    "            - Compare the percentages from the arrest records to the percentages from the census data.\n",
    "        \n",
    "        - Outcomes: One cannot take this analysis as concrete evidence that there is racial bias, but we should be able to agree that if there is systematic racial bias in policing, a minority group, such as African Americans, would be arrested more than White people. There are many factors to consider here and to really find concrete evidence of racial bias, one would need to examine every arrest individually. \n",
    "            \n",
    "Analysis 2:\n",
    "    Specifically looking at African Americans and crimes that don't always warrant arrest, is there a difference in the number of African Americans vs. White people that are arrested for these crimes?\n",
    "        \n",
    "        Steps:\n",
    "            - Need to identify which crimes are not likely to result in arrest\n",
    "            - Split dataset into just those crimes\n",
    "            - Find breakdown of these two ethnicities\n",
    "        \n",
    "        - Outcomes: I think identifying which crimes are \"less significant\" would be difficult and could easily be debated, but we can probably agree that a race being systematically opressed by bias in policing would be arrested more for the smaller, more petty crimes, as the officers would be looking to arrest them on anything. I don't know how significant this analysis can be, certainly less than the other two.\n",
    "            \n",
    "Analysis 3:\n",
    "    Find ratio between black vs. white arrests in each city and compare that to the census data. Then, compare how close the arrest data ratio is to the census data for each city, to find is there is a geographical impact on racial bias.\n",
    "        \n",
    "        Steps:\n",
    "            - Find number of arrest records that indicate black and white as race for each city.\n",
    "            - Find the census records that indicate black and white as race for each city.\n",
    "            - See how close these percentages/ratios are to each other. Find the difference between them for each city (arrest vs. census race breakdown).\n",
    "            - Compare the difference between arrests and census data for each city to one another. This should allow for a conclusion on the location having an impact on racial bias, assuming a large difference between census race percentages and arrest record race percentages.\n",
    "        \n",
    "        - Outcomes: If there is a large difference between the race breakdown for the census vs. arrest records in one city, and a very small difference in another, one cannot make any concrete statements, but might assume that there is racial bias, due to the difference between arrest records and the census data. \n",
    "        \n",
    "        \n",
    "        "
   ]
  },
  {
   "cell_type": "markdown",
   "metadata": {},
   "source": [
    "### Questions (post Phase 3):\n",
    "\n",
    "- Do you think it is significant enough analysis to make the connection between census data and arrest records? Is it a bad idea to base my overall analysis on a difference in race percentages between the two?\n",
    "\n",
    "- Can you think of any uniform way to classify the lesser crimes that I want to examine?\n",
    "\n",
    "- Are there any other variables you see that you think I should include in analysis?"
   ]
  },
  {
   "cell_type": "code",
   "execution_count": 1,
   "metadata": {},
   "outputs": [],
   "source": [
    "import numpy as np\n",
    "import pandas as pd\n",
    "import matplotlib.pyplot as plt\n",
    "import seaborn as sns"
   ]
  },
  {
   "cell_type": "code",
   "execution_count": 2,
   "metadata": {},
   "outputs": [],
   "source": [
    "APD_arrests2014 = pd.DataFrame(pd.read_csv(\"C:/Users/wf74/Desktop/INFO 2950/project/2014_apd.csv\"))\n",
    "APD_arrests2015 = pd.DataFrame(pd.read_csv(\"C:/Users/wf74/Desktop/INFO 2950/project/2015_apd.csv\"))\n",
    "APD_arrests2016 = pd.DataFrame(pd.read_csv(\"C:/Users/wf74/Desktop/INFO 2950/project/2016_apd.csv\"))\n",
    "APD_arrests2017 = pd.DataFrame(pd.read_csv(\"C:/Users/wf74/Desktop/INFO 2950/project/2017_apd.csv\"))\n",
    "APD_arrests2018 = pd.DataFrame(pd.read_csv(\"C:/Users/wf74/Desktop/INFO 2950/project/2018_apd.csv\"))\n",
    "APD_arrests2019 = pd.DataFrame(pd.read_csv(\"C:/Users/wf74/Desktop/INFO 2950/project/2019_apd.csv\"))\n",
    "NYPD_arrests = pd.DataFrame(pd.read_csv(\"C:/Users/wf74/Desktop/INFO 2950/project/all_nypd.csv\"))\n",
    "NY_census = pd.DataFrame(pd.read_csv(\"C:/Users/wf74/Desktop/INFO 2950/project/ny_census.csv\"))\n",
    "TX_census = pd.DataFrame(pd.read_csv(\"C:/Users/wf74/Desktop/INFO 2950/project/tx_census.csv\"))"
   ]
  },
  {
   "cell_type": "code",
   "execution_count": 3,
   "metadata": {},
   "outputs": [],
   "source": [
    "APD_arrests = pd.concat([APD_arrests2014, APD_arrests2015, APD_arrests2016, APD_arrests2017, APD_arrests2018, APD_arrests2019])"
   ]
  },
  {
   "cell_type": "code",
   "execution_count": 4,
   "metadata": {},
   "outputs": [
    {
     "data": {
      "text/html": [
       "<div>\n",
       "<style scoped>\n",
       "    .dataframe tbody tr th:only-of-type {\n",
       "        vertical-align: middle;\n",
       "    }\n",
       "\n",
       "    .dataframe tbody tr th {\n",
       "        vertical-align: top;\n",
       "    }\n",
       "\n",
       "    .dataframe thead th {\n",
       "        text-align: right;\n",
       "    }\n",
       "</style>\n",
       "<table border=\"1\" class=\"dataframe\">\n",
       "  <thead>\n",
       "    <tr style=\"text-align: right;\">\n",
       "      <th></th>\n",
       "      <th>PRIMARY_KEY</th>\n",
       "      <th>SEX</th>\n",
       "      <th>APD_RACE_DESC</th>\n",
       "      <th>PERSON_SEARCHED_DESC</th>\n",
       "      <th>REASON_FOR_STOP_DESC</th>\n",
       "      <th>SEARCH_BASED_ON_DESC</th>\n",
       "      <th>SEARCH_DISC_DESC</th>\n",
       "      <th>RACE_KNOWN</th>\n",
       "      <th>SECTOR</th>\n",
       "      <th>REP_DATE</th>\n",
       "      <th>...</th>\n",
       "      <th>CAD_sector</th>\n",
       "      <th>CouncilDistrict</th>\n",
       "      <th>APD_sector</th>\n",
       "      <th>county_description</th>\n",
       "      <th>ZIP</th>\n",
       "      <th>CENSUS_TRACT</th>\n",
       "      <th>Reason for Stop – TCOLE form</th>\n",
       "      <th>Person Search YN</th>\n",
       "      <th>Search Based On</th>\n",
       "      <th>Search Found</th>\n",
       "    </tr>\n",
       "  </thead>\n",
       "  <tbody>\n",
       "    <tr>\n",
       "      <th>0</th>\n",
       "      <td>201411372</td>\n",
       "      <td>F</td>\n",
       "      <td>BLACK</td>\n",
       "      <td>YES = 1</td>\n",
       "      <td>VIOLATION OF TRANSPORTATION CODE/VEHICLE LAWS</td>\n",
       "      <td>PROBABLE CAUSE</td>\n",
       "      <td>NOTHING</td>\n",
       "      <td>YES - RACE OR ETHNICITY WAS KNOWN BEFORE STOP</td>\n",
       "      <td>CHARLIE</td>\n",
       "      <td>NaN</td>\n",
       "      <td>...</td>\n",
       "      <td>NaN</td>\n",
       "      <td>NaN</td>\n",
       "      <td>NaN</td>\n",
       "      <td>NaN</td>\n",
       "      <td>NaN</td>\n",
       "      <td>NaN</td>\n",
       "      <td>NaN</td>\n",
       "      <td>NaN</td>\n",
       "      <td>NaN</td>\n",
       "      <td>NaN</td>\n",
       "    </tr>\n",
       "    <tr>\n",
       "      <th>1</th>\n",
       "      <td>201411525</td>\n",
       "      <td>M</td>\n",
       "      <td>BLACK</td>\n",
       "      <td>YES = 1</td>\n",
       "      <td>VIOLATION OF TRANSPORTATION CODE/VEHICLE LAWS</td>\n",
       "      <td>PROBABLE CAUSE</td>\n",
       "      <td>DRUGS</td>\n",
       "      <td>NO - RACE OR ETHNICITY WAS NOT KNOWN BEFORE STOP</td>\n",
       "      <td>CHARLIE</td>\n",
       "      <td>NaN</td>\n",
       "      <td>...</td>\n",
       "      <td>NaN</td>\n",
       "      <td>NaN</td>\n",
       "      <td>NaN</td>\n",
       "      <td>NaN</td>\n",
       "      <td>NaN</td>\n",
       "      <td>NaN</td>\n",
       "      <td>NaN</td>\n",
       "      <td>NaN</td>\n",
       "      <td>NaN</td>\n",
       "      <td>NaN</td>\n",
       "    </tr>\n",
       "    <tr>\n",
       "      <th>2</th>\n",
       "      <td>201411525</td>\n",
       "      <td>M</td>\n",
       "      <td>BLACK</td>\n",
       "      <td>YES = 1</td>\n",
       "      <td>VIOLATION OF TRANSPORTATION CODE/VEHICLE LAWS</td>\n",
       "      <td>PROBABLE CAUSE</td>\n",
       "      <td>DRUGS</td>\n",
       "      <td>NO - RACE OR ETHNICITY WAS NOT KNOWN BEFORE STOP</td>\n",
       "      <td>CHARLIE</td>\n",
       "      <td>NaN</td>\n",
       "      <td>...</td>\n",
       "      <td>NaN</td>\n",
       "      <td>NaN</td>\n",
       "      <td>NaN</td>\n",
       "      <td>NaN</td>\n",
       "      <td>NaN</td>\n",
       "      <td>NaN</td>\n",
       "      <td>NaN</td>\n",
       "      <td>NaN</td>\n",
       "      <td>NaN</td>\n",
       "      <td>NaN</td>\n",
       "    </tr>\n",
       "    <tr>\n",
       "      <th>3</th>\n",
       "      <td>201410592</td>\n",
       "      <td>M</td>\n",
       "      <td>HISPANIC OR LATINO</td>\n",
       "      <td>YES = 1</td>\n",
       "      <td>VIOLATION OF TRANSPORTATION CODE/VEHICLE LAWS</td>\n",
       "      <td>INCIDENTAL TO ARREST</td>\n",
       "      <td>NOTHING</td>\n",
       "      <td>NO - RACE OR ETHNICITY WAS NOT KNOWN BEFORE STOP</td>\n",
       "      <td>BAKER</td>\n",
       "      <td>NaN</td>\n",
       "      <td>...</td>\n",
       "      <td>NaN</td>\n",
       "      <td>NaN</td>\n",
       "      <td>NaN</td>\n",
       "      <td>NaN</td>\n",
       "      <td>NaN</td>\n",
       "      <td>NaN</td>\n",
       "      <td>NaN</td>\n",
       "      <td>NaN</td>\n",
       "      <td>NaN</td>\n",
       "      <td>NaN</td>\n",
       "    </tr>\n",
       "    <tr>\n",
       "      <th>4</th>\n",
       "      <td>201411940</td>\n",
       "      <td>M</td>\n",
       "      <td>BLACK</td>\n",
       "      <td>YES = 1</td>\n",
       "      <td>PRE-EXISTING KNOWLEDGE</td>\n",
       "      <td>INCIDENTAL TO ARREST</td>\n",
       "      <td>CASH</td>\n",
       "      <td>NO - RACE OR ETHNICITY WAS NOT KNOWN BEFORE STOP</td>\n",
       "      <td>IDA</td>\n",
       "      <td>NaN</td>\n",
       "      <td>...</td>\n",
       "      <td>NaN</td>\n",
       "      <td>NaN</td>\n",
       "      <td>NaN</td>\n",
       "      <td>NaN</td>\n",
       "      <td>NaN</td>\n",
       "      <td>NaN</td>\n",
       "      <td>NaN</td>\n",
       "      <td>NaN</td>\n",
       "      <td>NaN</td>\n",
       "      <td>NaN</td>\n",
       "    </tr>\n",
       "  </tbody>\n",
       "</table>\n",
       "<p>5 rows × 28 columns</p>\n",
       "</div>"
      ],
      "text/plain": [
       "   PRIMARY_KEY SEX       APD_RACE_DESC PERSON_SEARCHED_DESC  \\\n",
       "0    201411372   F               BLACK              YES = 1   \n",
       "1    201411525   M               BLACK              YES = 1   \n",
       "2    201411525   M               BLACK              YES = 1   \n",
       "3    201410592   M  HISPANIC OR LATINO              YES = 1   \n",
       "4    201411940   M               BLACK              YES = 1   \n",
       "\n",
       "                            REASON_FOR_STOP_DESC  SEARCH_BASED_ON_DESC  \\\n",
       "0  VIOLATION OF TRANSPORTATION CODE/VEHICLE LAWS        PROBABLE CAUSE   \n",
       "1  VIOLATION OF TRANSPORTATION CODE/VEHICLE LAWS        PROBABLE CAUSE   \n",
       "2  VIOLATION OF TRANSPORTATION CODE/VEHICLE LAWS        PROBABLE CAUSE   \n",
       "3  VIOLATION OF TRANSPORTATION CODE/VEHICLE LAWS  INCIDENTAL TO ARREST   \n",
       "4                         PRE-EXISTING KNOWLEDGE  INCIDENTAL TO ARREST   \n",
       "\n",
       "  SEARCH_DISC_DESC                                        RACE_KNOWN   SECTOR  \\\n",
       "0          NOTHING     YES - RACE OR ETHNICITY WAS KNOWN BEFORE STOP  CHARLIE   \n",
       "1            DRUGS  NO - RACE OR ETHNICITY WAS NOT KNOWN BEFORE STOP  CHARLIE   \n",
       "2            DRUGS  NO - RACE OR ETHNICITY WAS NOT KNOWN BEFORE STOP  CHARLIE   \n",
       "3          NOTHING  NO - RACE OR ETHNICITY WAS NOT KNOWN BEFORE STOP    BAKER   \n",
       "4             CASH  NO - RACE OR ETHNICITY WAS NOT KNOWN BEFORE STOP      IDA   \n",
       "\n",
       "  REP_DATE  ...  CAD_sector CouncilDistrict  APD_sector  county_description  \\\n",
       "0      NaN  ...         NaN             NaN         NaN                 NaN   \n",
       "1      NaN  ...         NaN             NaN         NaN                 NaN   \n",
       "2      NaN  ...         NaN             NaN         NaN                 NaN   \n",
       "3      NaN  ...         NaN             NaN         NaN                 NaN   \n",
       "4      NaN  ...         NaN             NaN         NaN                 NaN   \n",
       "\n",
       "   ZIP CENSUS_TRACT Reason for Stop – TCOLE form Person Search YN  \\\n",
       "0  NaN          NaN                          NaN              NaN   \n",
       "1  NaN          NaN                          NaN              NaN   \n",
       "2  NaN          NaN                          NaN              NaN   \n",
       "3  NaN          NaN                          NaN              NaN   \n",
       "4  NaN          NaN                          NaN              NaN   \n",
       "\n",
       "  Search Based On Search Found  \n",
       "0             NaN          NaN  \n",
       "1             NaN          NaN  \n",
       "2             NaN          NaN  \n",
       "3             NaN          NaN  \n",
       "4             NaN          NaN  \n",
       "\n",
       "[5 rows x 28 columns]"
      ]
     },
     "execution_count": 4,
     "metadata": {},
     "output_type": "execute_result"
    }
   ],
   "source": [
    "APD_arrests.head()"
   ]
  },
  {
   "cell_type": "code",
   "execution_count": 5,
   "metadata": {
    "scrolled": true
   },
   "outputs": [
    {
     "data": {
      "text/html": [
       "<div>\n",
       "<style scoped>\n",
       "    .dataframe tbody tr th:only-of-type {\n",
       "        vertical-align: middle;\n",
       "    }\n",
       "\n",
       "    .dataframe tbody tr th {\n",
       "        vertical-align: top;\n",
       "    }\n",
       "\n",
       "    .dataframe thead th {\n",
       "        text-align: right;\n",
       "    }\n",
       "</style>\n",
       "<table border=\"1\" class=\"dataframe\">\n",
       "  <thead>\n",
       "    <tr style=\"text-align: right;\">\n",
       "      <th></th>\n",
       "      <th>ARREST_KEY</th>\n",
       "      <th>ARREST_DATE</th>\n",
       "      <th>PD_CD</th>\n",
       "      <th>PD_DESC</th>\n",
       "      <th>KY_CD</th>\n",
       "      <th>OFNS_DESC</th>\n",
       "      <th>LAW_CODE</th>\n",
       "      <th>LAW_CAT_CD</th>\n",
       "      <th>ARREST_BORO</th>\n",
       "      <th>ARREST_PRECINCT</th>\n",
       "      <th>JURISDICTION_CODE</th>\n",
       "      <th>AGE_GROUP</th>\n",
       "      <th>PERP_SEX</th>\n",
       "      <th>PERP_RACE</th>\n",
       "      <th>X_COORD_CD</th>\n",
       "      <th>Y_COORD_CD</th>\n",
       "      <th>Latitude</th>\n",
       "      <th>Longitude</th>\n",
       "      <th>Lon_Lat</th>\n",
       "    </tr>\n",
       "  </thead>\n",
       "  <tbody>\n",
       "    <tr>\n",
       "      <th>0</th>\n",
       "      <td>144026181</td>\n",
       "      <td>06/26/2015</td>\n",
       "      <td>639.0</td>\n",
       "      <td>AGGRAVATED HARASSMENT 2</td>\n",
       "      <td>361.0</td>\n",
       "      <td>OFF. AGNST PUB ORD SENSBLTY &amp; RGHTS TO PRIV</td>\n",
       "      <td>PL 2403002</td>\n",
       "      <td>M</td>\n",
       "      <td>Q</td>\n",
       "      <td>102</td>\n",
       "      <td>0.0</td>\n",
       "      <td>45-64</td>\n",
       "      <td>M</td>\n",
       "      <td>WHITE HISPANIC</td>\n",
       "      <td>1031076.0</td>\n",
       "      <td>193779.0</td>\n",
       "      <td>40.698440</td>\n",
       "      <td>-73.831130</td>\n",
       "      <td>POINT (-73.83112953899997 40.69843969400005)</td>\n",
       "    </tr>\n",
       "    <tr>\n",
       "      <th>1</th>\n",
       "      <td>144507595</td>\n",
       "      <td>07/14/2015</td>\n",
       "      <td>969.0</td>\n",
       "      <td>TRAFFIC,UNCLASSIFIED INFRACTION</td>\n",
       "      <td>881.0</td>\n",
       "      <td>OTHER TRAFFIC INFRACTION</td>\n",
       "      <td>VTL051101A</td>\n",
       "      <td>M</td>\n",
       "      <td>M</td>\n",
       "      <td>10</td>\n",
       "      <td>3.0</td>\n",
       "      <td>25-44</td>\n",
       "      <td>M</td>\n",
       "      <td>WHITE HISPANIC</td>\n",
       "      <td>984791.0</td>\n",
       "      <td>209846.0</td>\n",
       "      <td>40.742664</td>\n",
       "      <td>-73.998049</td>\n",
       "      <td>POINT (-73.99804910799998 40.74266360800004)</td>\n",
       "    </tr>\n",
       "    <tr>\n",
       "      <th>2</th>\n",
       "      <td>144565062</td>\n",
       "      <td>07/16/2015</td>\n",
       "      <td>101.0</td>\n",
       "      <td>ASSAULT 3</td>\n",
       "      <td>344.0</td>\n",
       "      <td>ASSAULT 3 &amp; RELATED OFFENSES</td>\n",
       "      <td>PL 1200001</td>\n",
       "      <td>M</td>\n",
       "      <td>K</td>\n",
       "      <td>90</td>\n",
       "      <td>0.0</td>\n",
       "      <td>18-24</td>\n",
       "      <td>F</td>\n",
       "      <td>WHITE HISPANIC</td>\n",
       "      <td>994026.0</td>\n",
       "      <td>195548.0</td>\n",
       "      <td>40.703414</td>\n",
       "      <td>-73.964743</td>\n",
       "      <td>POINT (-73.96474295699994 40.70341366900004)</td>\n",
       "    </tr>\n",
       "    <tr>\n",
       "      <th>3</th>\n",
       "      <td>144500188</td>\n",
       "      <td>07/14/2015</td>\n",
       "      <td>879.0</td>\n",
       "      <td>ADM.CODE,UNCLASSIFIED VIOLATION</td>\n",
       "      <td>675.0</td>\n",
       "      <td>ADMINISTRATIVE CODE</td>\n",
       "      <td>AC 010125B</td>\n",
       "      <td>V</td>\n",
       "      <td>Q</td>\n",
       "      <td>103</td>\n",
       "      <td>0.0</td>\n",
       "      <td>25-44</td>\n",
       "      <td>M</td>\n",
       "      <td>WHITE HISPANIC</td>\n",
       "      <td>1037132.0</td>\n",
       "      <td>196129.0</td>\n",
       "      <td>40.704856</td>\n",
       "      <td>-73.809271</td>\n",
       "      <td>POINT (-73.809270971 40.70485576300007)</td>\n",
       "    </tr>\n",
       "    <tr>\n",
       "      <th>4</th>\n",
       "      <td>144216044</td>\n",
       "      <td>07/03/2015</td>\n",
       "      <td>478.0</td>\n",
       "      <td>THEFT OF SERVICES, UNCLASSIFIED</td>\n",
       "      <td>343.0</td>\n",
       "      <td>OTHER OFFENSES RELATED TO THEFT</td>\n",
       "      <td>PL 1651503</td>\n",
       "      <td>M</td>\n",
       "      <td>M</td>\n",
       "      <td>10</td>\n",
       "      <td>1.0</td>\n",
       "      <td>18-24</td>\n",
       "      <td>M</td>\n",
       "      <td>WHITE HISPANIC</td>\n",
       "      <td>984602.0</td>\n",
       "      <td>210686.0</td>\n",
       "      <td>40.744969</td>\n",
       "      <td>-73.998731</td>\n",
       "      <td>POINT (-73.99873112099993 40.74496920800005)</td>\n",
       "    </tr>\n",
       "  </tbody>\n",
       "</table>\n",
       "</div>"
      ],
      "text/plain": [
       "   ARREST_KEY ARREST_DATE  PD_CD                          PD_DESC  KY_CD  \\\n",
       "0   144026181  06/26/2015  639.0          AGGRAVATED HARASSMENT 2  361.0   \n",
       "1   144507595  07/14/2015  969.0  TRAFFIC,UNCLASSIFIED INFRACTION  881.0   \n",
       "2   144565062  07/16/2015  101.0                        ASSAULT 3  344.0   \n",
       "3   144500188  07/14/2015  879.0  ADM.CODE,UNCLASSIFIED VIOLATION  675.0   \n",
       "4   144216044  07/03/2015  478.0  THEFT OF SERVICES, UNCLASSIFIED  343.0   \n",
       "\n",
       "                                     OFNS_DESC    LAW_CODE LAW_CAT_CD  \\\n",
       "0  OFF. AGNST PUB ORD SENSBLTY & RGHTS TO PRIV  PL 2403002          M   \n",
       "1                     OTHER TRAFFIC INFRACTION  VTL051101A          M   \n",
       "2                 ASSAULT 3 & RELATED OFFENSES  PL 1200001          M   \n",
       "3                          ADMINISTRATIVE CODE  AC 010125B          V   \n",
       "4              OTHER OFFENSES RELATED TO THEFT  PL 1651503          M   \n",
       "\n",
       "  ARREST_BORO  ARREST_PRECINCT  JURISDICTION_CODE AGE_GROUP PERP_SEX  \\\n",
       "0           Q              102                0.0     45-64        M   \n",
       "1           M               10                3.0     25-44        M   \n",
       "2           K               90                0.0     18-24        F   \n",
       "3           Q              103                0.0     25-44        M   \n",
       "4           M               10                1.0     18-24        M   \n",
       "\n",
       "        PERP_RACE  X_COORD_CD  Y_COORD_CD   Latitude  Longitude  \\\n",
       "0  WHITE HISPANIC   1031076.0    193779.0  40.698440 -73.831130   \n",
       "1  WHITE HISPANIC    984791.0    209846.0  40.742664 -73.998049   \n",
       "2  WHITE HISPANIC    994026.0    195548.0  40.703414 -73.964743   \n",
       "3  WHITE HISPANIC   1037132.0    196129.0  40.704856 -73.809271   \n",
       "4  WHITE HISPANIC    984602.0    210686.0  40.744969 -73.998731   \n",
       "\n",
       "                                        Lon_Lat  \n",
       "0  POINT (-73.83112953899997 40.69843969400005)  \n",
       "1  POINT (-73.99804910799998 40.74266360800004)  \n",
       "2  POINT (-73.96474295699994 40.70341366900004)  \n",
       "3       POINT (-73.809270971 40.70485576300007)  \n",
       "4  POINT (-73.99873112099993 40.74496920800005)  "
      ]
     },
     "execution_count": 5,
     "metadata": {},
     "output_type": "execute_result"
    }
   ],
   "source": [
    "NYPD_arrests.head()"
   ]
  },
  {
   "cell_type": "code",
   "execution_count": 6,
   "metadata": {},
   "outputs": [
    {
     "data": {
      "text/html": [
       "<div>\n",
       "<style scoped>\n",
       "    .dataframe tbody tr th:only-of-type {\n",
       "        vertical-align: middle;\n",
       "    }\n",
       "\n",
       "    .dataframe tbody tr th {\n",
       "        vertical-align: top;\n",
       "    }\n",
       "\n",
       "    .dataframe thead th {\n",
       "        text-align: right;\n",
       "    }\n",
       "</style>\n",
       "<table border=\"1\" class=\"dataframe\">\n",
       "  <thead>\n",
       "    <tr style=\"text-align: right;\">\n",
       "      <th></th>\n",
       "      <th>SUMLEV</th>\n",
       "      <th>STATE</th>\n",
       "      <th>COUNTY</th>\n",
       "      <th>STNAME</th>\n",
       "      <th>CTYNAME</th>\n",
       "      <th>YEAR</th>\n",
       "      <th>AGEGRP</th>\n",
       "      <th>TOT_POP</th>\n",
       "      <th>TOT_MALE</th>\n",
       "      <th>TOT_FEMALE</th>\n",
       "      <th>...</th>\n",
       "      <th>HBA_MALE</th>\n",
       "      <th>HBA_FEMALE</th>\n",
       "      <th>HIA_MALE</th>\n",
       "      <th>HIA_FEMALE</th>\n",
       "      <th>HAA_MALE</th>\n",
       "      <th>HAA_FEMALE</th>\n",
       "      <th>HNA_MALE</th>\n",
       "      <th>HNA_FEMALE</th>\n",
       "      <th>HTOM_MALE</th>\n",
       "      <th>HTOM_FEMALE</th>\n",
       "    </tr>\n",
       "  </thead>\n",
       "  <tbody>\n",
       "    <tr>\n",
       "      <th>0</th>\n",
       "      <td>50</td>\n",
       "      <td>36</td>\n",
       "      <td>1</td>\n",
       "      <td>New York</td>\n",
       "      <td>Albany County</td>\n",
       "      <td>1</td>\n",
       "      <td>0</td>\n",
       "      <td>3192</td>\n",
       "      <td>1662</td>\n",
       "      <td>1530</td>\n",
       "      <td>...</td>\n",
       "      <td>41</td>\n",
       "      <td>23</td>\n",
       "      <td>1</td>\n",
       "      <td>0</td>\n",
       "      <td>2</td>\n",
       "      <td>2</td>\n",
       "      <td>0</td>\n",
       "      <td>0</td>\n",
       "      <td>11</td>\n",
       "      <td>3</td>\n",
       "    </tr>\n",
       "    <tr>\n",
       "      <th>1</th>\n",
       "      <td>50</td>\n",
       "      <td>36</td>\n",
       "      <td>1</td>\n",
       "      <td>New York</td>\n",
       "      <td>Albany County</td>\n",
       "      <td>1</td>\n",
       "      <td>1</td>\n",
       "      <td>13458</td>\n",
       "      <td>6949</td>\n",
       "      <td>6509</td>\n",
       "      <td>...</td>\n",
       "      <td>119</td>\n",
       "      <td>91</td>\n",
       "      <td>10</td>\n",
       "      <td>2</td>\n",
       "      <td>1</td>\n",
       "      <td>5</td>\n",
       "      <td>1</td>\n",
       "      <td>0</td>\n",
       "      <td>29</td>\n",
       "      <td>24</td>\n",
       "    </tr>\n",
       "    <tr>\n",
       "      <th>2</th>\n",
       "      <td>50</td>\n",
       "      <td>36</td>\n",
       "      <td>1</td>\n",
       "      <td>New York</td>\n",
       "      <td>Albany County</td>\n",
       "      <td>1</td>\n",
       "      <td>2</td>\n",
       "      <td>18948</td>\n",
       "      <td>9770</td>\n",
       "      <td>9178</td>\n",
       "      <td>...</td>\n",
       "      <td>127</td>\n",
       "      <td>119</td>\n",
       "      <td>11</td>\n",
       "      <td>4</td>\n",
       "      <td>5</td>\n",
       "      <td>5</td>\n",
       "      <td>3</td>\n",
       "      <td>2</td>\n",
       "      <td>34</td>\n",
       "      <td>22</td>\n",
       "    </tr>\n",
       "    <tr>\n",
       "      <th>3</th>\n",
       "      <td>50</td>\n",
       "      <td>36</td>\n",
       "      <td>1</td>\n",
       "      <td>New York</td>\n",
       "      <td>Albany County</td>\n",
       "      <td>1</td>\n",
       "      <td>3</td>\n",
       "      <td>19435</td>\n",
       "      <td>9968</td>\n",
       "      <td>9467</td>\n",
       "      <td>...</td>\n",
       "      <td>109</td>\n",
       "      <td>87</td>\n",
       "      <td>11</td>\n",
       "      <td>12</td>\n",
       "      <td>4</td>\n",
       "      <td>3</td>\n",
       "      <td>4</td>\n",
       "      <td>0</td>\n",
       "      <td>21</td>\n",
       "      <td>30</td>\n",
       "    </tr>\n",
       "    <tr>\n",
       "      <th>4</th>\n",
       "      <td>50</td>\n",
       "      <td>36</td>\n",
       "      <td>1</td>\n",
       "      <td>New York</td>\n",
       "      <td>Albany County</td>\n",
       "      <td>1</td>\n",
       "      <td>4</td>\n",
       "      <td>22230</td>\n",
       "      <td>11153</td>\n",
       "      <td>11077</td>\n",
       "      <td>...</td>\n",
       "      <td>106</td>\n",
       "      <td>108</td>\n",
       "      <td>7</td>\n",
       "      <td>6</td>\n",
       "      <td>5</td>\n",
       "      <td>3</td>\n",
       "      <td>3</td>\n",
       "      <td>3</td>\n",
       "      <td>25</td>\n",
       "      <td>17</td>\n",
       "    </tr>\n",
       "  </tbody>\n",
       "</table>\n",
       "<p>5 rows × 50 columns</p>\n",
       "</div>"
      ],
      "text/plain": [
       "   SUMLEV  STATE  COUNTY    STNAME        CTYNAME  YEAR  AGEGRP  TOT_POP  \\\n",
       "0      50     36       1  New York  Albany County     1       0     3192   \n",
       "1      50     36       1  New York  Albany County     1       1    13458   \n",
       "2      50     36       1  New York  Albany County     1       2    18948   \n",
       "3      50     36       1  New York  Albany County     1       3    19435   \n",
       "4      50     36       1  New York  Albany County     1       4    22230   \n",
       "\n",
       "   TOT_MALE  TOT_FEMALE  ...  HBA_MALE  HBA_FEMALE  HIA_MALE  HIA_FEMALE  \\\n",
       "0      1662        1530  ...        41          23         1           0   \n",
       "1      6949        6509  ...       119          91        10           2   \n",
       "2      9770        9178  ...       127         119        11           4   \n",
       "3      9968        9467  ...       109          87        11          12   \n",
       "4     11153       11077  ...       106         108         7           6   \n",
       "\n",
       "   HAA_MALE  HAA_FEMALE  HNA_MALE  HNA_FEMALE  HTOM_MALE  HTOM_FEMALE  \n",
       "0         2           2         0           0         11            3  \n",
       "1         1           5         1           0         29           24  \n",
       "2         5           5         3           2         34           22  \n",
       "3         4           3         4           0         21           30  \n",
       "4         5           3         3           3         25           17  \n",
       "\n",
       "[5 rows x 50 columns]"
      ]
     },
     "execution_count": 6,
     "metadata": {},
     "output_type": "execute_result"
    }
   ],
   "source": [
    "NY_census.head()"
   ]
  },
  {
   "cell_type": "code",
   "execution_count": 7,
   "metadata": {},
   "outputs": [
    {
     "data": {
      "text/html": [
       "<div>\n",
       "<style scoped>\n",
       "    .dataframe tbody tr th:only-of-type {\n",
       "        vertical-align: middle;\n",
       "    }\n",
       "\n",
       "    .dataframe tbody tr th {\n",
       "        vertical-align: top;\n",
       "    }\n",
       "\n",
       "    .dataframe thead th {\n",
       "        text-align: right;\n",
       "    }\n",
       "</style>\n",
       "<table border=\"1\" class=\"dataframe\">\n",
       "  <thead>\n",
       "    <tr style=\"text-align: right;\">\n",
       "      <th></th>\n",
       "      <th>SUMLEV</th>\n",
       "      <th>STATE</th>\n",
       "      <th>COUNTY</th>\n",
       "      <th>STNAME</th>\n",
       "      <th>CTYNAME</th>\n",
       "      <th>YEAR</th>\n",
       "      <th>AGEGRP</th>\n",
       "      <th>TOT_POP</th>\n",
       "      <th>TOT_MALE</th>\n",
       "      <th>TOT_FEMALE</th>\n",
       "      <th>...</th>\n",
       "      <th>HBA_MALE</th>\n",
       "      <th>HBA_FEMALE</th>\n",
       "      <th>HIA_MALE</th>\n",
       "      <th>HIA_FEMALE</th>\n",
       "      <th>HAA_MALE</th>\n",
       "      <th>HAA_FEMALE</th>\n",
       "      <th>HNA_MALE</th>\n",
       "      <th>HNA_FEMALE</th>\n",
       "      <th>HTOM_MALE</th>\n",
       "      <th>HTOM_FEMALE</th>\n",
       "    </tr>\n",
       "  </thead>\n",
       "  <tbody>\n",
       "    <tr>\n",
       "      <th>0</th>\n",
       "      <td>50</td>\n",
       "      <td>48</td>\n",
       "      <td>1</td>\n",
       "      <td>Texas</td>\n",
       "      <td>Anderson County</td>\n",
       "      <td>1</td>\n",
       "      <td>0</td>\n",
       "      <td>618</td>\n",
       "      <td>311</td>\n",
       "      <td>307</td>\n",
       "      <td>...</td>\n",
       "      <td>1</td>\n",
       "      <td>1</td>\n",
       "      <td>0</td>\n",
       "      <td>3</td>\n",
       "      <td>0</td>\n",
       "      <td>0</td>\n",
       "      <td>1</td>\n",
       "      <td>1</td>\n",
       "      <td>1</td>\n",
       "      <td>1</td>\n",
       "    </tr>\n",
       "    <tr>\n",
       "      <th>1</th>\n",
       "      <td>50</td>\n",
       "      <td>48</td>\n",
       "      <td>1</td>\n",
       "      <td>Texas</td>\n",
       "      <td>Anderson County</td>\n",
       "      <td>1</td>\n",
       "      <td>1</td>\n",
       "      <td>2419</td>\n",
       "      <td>1228</td>\n",
       "      <td>1191</td>\n",
       "      <td>...</td>\n",
       "      <td>6</td>\n",
       "      <td>7</td>\n",
       "      <td>4</td>\n",
       "      <td>1</td>\n",
       "      <td>0</td>\n",
       "      <td>0</td>\n",
       "      <td>0</td>\n",
       "      <td>1</td>\n",
       "      <td>4</td>\n",
       "      <td>3</td>\n",
       "    </tr>\n",
       "    <tr>\n",
       "      <th>2</th>\n",
       "      <td>50</td>\n",
       "      <td>48</td>\n",
       "      <td>1</td>\n",
       "      <td>Texas</td>\n",
       "      <td>Anderson County</td>\n",
       "      <td>1</td>\n",
       "      <td>2</td>\n",
       "      <td>3061</td>\n",
       "      <td>1638</td>\n",
       "      <td>1423</td>\n",
       "      <td>...</td>\n",
       "      <td>5</td>\n",
       "      <td>8</td>\n",
       "      <td>0</td>\n",
       "      <td>3</td>\n",
       "      <td>0</td>\n",
       "      <td>0</td>\n",
       "      <td>0</td>\n",
       "      <td>1</td>\n",
       "      <td>4</td>\n",
       "      <td>2</td>\n",
       "    </tr>\n",
       "    <tr>\n",
       "      <th>3</th>\n",
       "      <td>50</td>\n",
       "      <td>48</td>\n",
       "      <td>1</td>\n",
       "      <td>Texas</td>\n",
       "      <td>Anderson County</td>\n",
       "      <td>1</td>\n",
       "      <td>3</td>\n",
       "      <td>3250</td>\n",
       "      <td>1627</td>\n",
       "      <td>1623</td>\n",
       "      <td>...</td>\n",
       "      <td>4</td>\n",
       "      <td>3</td>\n",
       "      <td>0</td>\n",
       "      <td>4</td>\n",
       "      <td>0</td>\n",
       "      <td>0</td>\n",
       "      <td>0</td>\n",
       "      <td>0</td>\n",
       "      <td>3</td>\n",
       "      <td>0</td>\n",
       "    </tr>\n",
       "    <tr>\n",
       "      <th>4</th>\n",
       "      <td>50</td>\n",
       "      <td>48</td>\n",
       "      <td>1</td>\n",
       "      <td>Texas</td>\n",
       "      <td>Anderson County</td>\n",
       "      <td>1</td>\n",
       "      <td>4</td>\n",
       "      <td>3310</td>\n",
       "      <td>1727</td>\n",
       "      <td>1583</td>\n",
       "      <td>...</td>\n",
       "      <td>6</td>\n",
       "      <td>3</td>\n",
       "      <td>4</td>\n",
       "      <td>3</td>\n",
       "      <td>1</td>\n",
       "      <td>4</td>\n",
       "      <td>0</td>\n",
       "      <td>0</td>\n",
       "      <td>1</td>\n",
       "      <td>4</td>\n",
       "    </tr>\n",
       "  </tbody>\n",
       "</table>\n",
       "<p>5 rows × 50 columns</p>\n",
       "</div>"
      ],
      "text/plain": [
       "   SUMLEV  STATE  COUNTY STNAME          CTYNAME  YEAR  AGEGRP  TOT_POP  \\\n",
       "0      50     48       1  Texas  Anderson County     1       0      618   \n",
       "1      50     48       1  Texas  Anderson County     1       1     2419   \n",
       "2      50     48       1  Texas  Anderson County     1       2     3061   \n",
       "3      50     48       1  Texas  Anderson County     1       3     3250   \n",
       "4      50     48       1  Texas  Anderson County     1       4     3310   \n",
       "\n",
       "   TOT_MALE  TOT_FEMALE  ...  HBA_MALE  HBA_FEMALE  HIA_MALE  HIA_FEMALE  \\\n",
       "0       311         307  ...         1           1         0           3   \n",
       "1      1228        1191  ...         6           7         4           1   \n",
       "2      1638        1423  ...         5           8         0           3   \n",
       "3      1627        1623  ...         4           3         0           4   \n",
       "4      1727        1583  ...         6           3         4           3   \n",
       "\n",
       "   HAA_MALE  HAA_FEMALE  HNA_MALE  HNA_FEMALE  HTOM_MALE  HTOM_FEMALE  \n",
       "0         0           0         1           1          1            1  \n",
       "1         0           0         0           1          4            3  \n",
       "2         0           0         0           1          4            2  \n",
       "3         0           0         0           0          3            0  \n",
       "4         1           4         0           0          1            4  \n",
       "\n",
       "[5 rows x 50 columns]"
      ]
     },
     "execution_count": 7,
     "metadata": {},
     "output_type": "execute_result"
    }
   ],
   "source": [
    "TX_census.head()"
   ]
  },
  {
   "cell_type": "code",
   "execution_count": 8,
   "metadata": {},
   "outputs": [
    {
     "data": {
      "text/html": [
       "<div>\n",
       "<style scoped>\n",
       "    .dataframe tbody tr th:only-of-type {\n",
       "        vertical-align: middle;\n",
       "    }\n",
       "\n",
       "    .dataframe tbody tr th {\n",
       "        vertical-align: top;\n",
       "    }\n",
       "\n",
       "    .dataframe thead th {\n",
       "        text-align: right;\n",
       "    }\n",
       "</style>\n",
       "<table border=\"1\" class=\"dataframe\">\n",
       "  <thead>\n",
       "    <tr style=\"text-align: right;\">\n",
       "      <th></th>\n",
       "      <th>SUMLEV</th>\n",
       "      <th>STATE</th>\n",
       "      <th>COUNTY</th>\n",
       "      <th>STNAME</th>\n",
       "      <th>CTYNAME</th>\n",
       "      <th>YEAR</th>\n",
       "      <th>AGEGRP</th>\n",
       "      <th>TOT_POP</th>\n",
       "      <th>TOT_MALE</th>\n",
       "      <th>TOT_FEMALE</th>\n",
       "      <th>...</th>\n",
       "      <th>HBA_MALE</th>\n",
       "      <th>HBA_FEMALE</th>\n",
       "      <th>HIA_MALE</th>\n",
       "      <th>HIA_FEMALE</th>\n",
       "      <th>HAA_MALE</th>\n",
       "      <th>HAA_FEMALE</th>\n",
       "      <th>HNA_MALE</th>\n",
       "      <th>HNA_FEMALE</th>\n",
       "      <th>HTOM_MALE</th>\n",
       "      <th>HTOM_FEMALE</th>\n",
       "    </tr>\n",
       "  </thead>\n",
       "  <tbody>\n",
       "    <tr>\n",
       "      <th>1820</th>\n",
       "      <td>50</td>\n",
       "      <td>48</td>\n",
       "      <td>15</td>\n",
       "      <td>Texas</td>\n",
       "      <td>Austin County</td>\n",
       "      <td>1</td>\n",
       "      <td>0</td>\n",
       "      <td>291</td>\n",
       "      <td>157</td>\n",
       "      <td>134</td>\n",
       "      <td>...</td>\n",
       "      <td>1</td>\n",
       "      <td>0</td>\n",
       "      <td>0</td>\n",
       "      <td>0</td>\n",
       "      <td>0</td>\n",
       "      <td>0</td>\n",
       "      <td>1</td>\n",
       "      <td>0</td>\n",
       "      <td>0</td>\n",
       "      <td>0</td>\n",
       "    </tr>\n",
       "    <tr>\n",
       "      <th>1821</th>\n",
       "      <td>50</td>\n",
       "      <td>48</td>\n",
       "      <td>15</td>\n",
       "      <td>Texas</td>\n",
       "      <td>Austin County</td>\n",
       "      <td>1</td>\n",
       "      <td>1</td>\n",
       "      <td>1271</td>\n",
       "      <td>646</td>\n",
       "      <td>625</td>\n",
       "      <td>...</td>\n",
       "      <td>11</td>\n",
       "      <td>3</td>\n",
       "      <td>3</td>\n",
       "      <td>2</td>\n",
       "      <td>0</td>\n",
       "      <td>2</td>\n",
       "      <td>0</td>\n",
       "      <td>1</td>\n",
       "      <td>1</td>\n",
       "      <td>1</td>\n",
       "    </tr>\n",
       "    <tr>\n",
       "      <th>1822</th>\n",
       "      <td>50</td>\n",
       "      <td>48</td>\n",
       "      <td>15</td>\n",
       "      <td>Texas</td>\n",
       "      <td>Austin County</td>\n",
       "      <td>1</td>\n",
       "      <td>2</td>\n",
       "      <td>1734</td>\n",
       "      <td>880</td>\n",
       "      <td>854</td>\n",
       "      <td>...</td>\n",
       "      <td>9</td>\n",
       "      <td>3</td>\n",
       "      <td>1</td>\n",
       "      <td>4</td>\n",
       "      <td>0</td>\n",
       "      <td>0</td>\n",
       "      <td>0</td>\n",
       "      <td>1</td>\n",
       "      <td>1</td>\n",
       "      <td>1</td>\n",
       "    </tr>\n",
       "    <tr>\n",
       "      <th>1823</th>\n",
       "      <td>50</td>\n",
       "      <td>48</td>\n",
       "      <td>15</td>\n",
       "      <td>Texas</td>\n",
       "      <td>Austin County</td>\n",
       "      <td>1</td>\n",
       "      <td>3</td>\n",
       "      <td>1861</td>\n",
       "      <td>963</td>\n",
       "      <td>898</td>\n",
       "      <td>...</td>\n",
       "      <td>2</td>\n",
       "      <td>1</td>\n",
       "      <td>4</td>\n",
       "      <td>1</td>\n",
       "      <td>0</td>\n",
       "      <td>0</td>\n",
       "      <td>0</td>\n",
       "      <td>0</td>\n",
       "      <td>0</td>\n",
       "      <td>1</td>\n",
       "    </tr>\n",
       "    <tr>\n",
       "      <th>1824</th>\n",
       "      <td>50</td>\n",
       "      <td>48</td>\n",
       "      <td>15</td>\n",
       "      <td>Texas</td>\n",
       "      <td>Austin County</td>\n",
       "      <td>1</td>\n",
       "      <td>4</td>\n",
       "      <td>1877</td>\n",
       "      <td>975</td>\n",
       "      <td>902</td>\n",
       "      <td>...</td>\n",
       "      <td>0</td>\n",
       "      <td>3</td>\n",
       "      <td>1</td>\n",
       "      <td>0</td>\n",
       "      <td>0</td>\n",
       "      <td>0</td>\n",
       "      <td>0</td>\n",
       "      <td>0</td>\n",
       "      <td>0</td>\n",
       "      <td>0</td>\n",
       "    </tr>\n",
       "  </tbody>\n",
       "</table>\n",
       "<p>5 rows × 50 columns</p>\n",
       "</div>"
      ],
      "text/plain": [
       "      SUMLEV  STATE  COUNTY STNAME        CTYNAME  YEAR  AGEGRP  TOT_POP  \\\n",
       "1820      50     48      15  Texas  Austin County     1       0      291   \n",
       "1821      50     48      15  Texas  Austin County     1       1     1271   \n",
       "1822      50     48      15  Texas  Austin County     1       2     1734   \n",
       "1823      50     48      15  Texas  Austin County     1       3     1861   \n",
       "1824      50     48      15  Texas  Austin County     1       4     1877   \n",
       "\n",
       "      TOT_MALE  TOT_FEMALE  ...  HBA_MALE  HBA_FEMALE  HIA_MALE  HIA_FEMALE  \\\n",
       "1820       157         134  ...         1           0         0           0   \n",
       "1821       646         625  ...        11           3         3           2   \n",
       "1822       880         854  ...         9           3         1           4   \n",
       "1823       963         898  ...         2           1         4           1   \n",
       "1824       975         902  ...         0           3         1           0   \n",
       "\n",
       "      HAA_MALE  HAA_FEMALE  HNA_MALE  HNA_FEMALE  HTOM_MALE  HTOM_FEMALE  \n",
       "1820         0           0         1           0          0            0  \n",
       "1821         0           2         0           1          1            1  \n",
       "1822         0           0         0           1          1            1  \n",
       "1823         0           0         0           0          0            1  \n",
       "1824         0           0         0           0          0            0  \n",
       "\n",
       "[5 rows x 50 columns]"
      ]
     },
     "execution_count": 8,
     "metadata": {},
     "output_type": "execute_result"
    }
   ],
   "source": [
    "# Separate rows for Austin County\n",
    "ATX_census = TX_census[TX_census['CTYNAME'] == 'Austin County']\n",
    "ATX_census.head()"
   ]
  },
  {
   "cell_type": "code",
   "execution_count": 9,
   "metadata": {},
   "outputs": [
    {
     "data": {
      "text/html": [
       "<div>\n",
       "<style scoped>\n",
       "    .dataframe tbody tr th:only-of-type {\n",
       "        vertical-align: middle;\n",
       "    }\n",
       "\n",
       "    .dataframe tbody tr th {\n",
       "        vertical-align: top;\n",
       "    }\n",
       "\n",
       "    .dataframe thead th {\n",
       "        text-align: right;\n",
       "    }\n",
       "</style>\n",
       "<table border=\"1\" class=\"dataframe\">\n",
       "  <thead>\n",
       "    <tr style=\"text-align: right;\">\n",
       "      <th></th>\n",
       "      <th>SUMLEV</th>\n",
       "      <th>STATE</th>\n",
       "      <th>COUNTY</th>\n",
       "      <th>STNAME</th>\n",
       "      <th>CTYNAME</th>\n",
       "      <th>YEAR</th>\n",
       "      <th>AGEGRP</th>\n",
       "      <th>TOT_POP</th>\n",
       "      <th>TOT_MALE</th>\n",
       "      <th>TOT_FEMALE</th>\n",
       "      <th>...</th>\n",
       "      <th>HBA_MALE</th>\n",
       "      <th>HBA_FEMALE</th>\n",
       "      <th>HIA_MALE</th>\n",
       "      <th>HIA_FEMALE</th>\n",
       "      <th>HAA_MALE</th>\n",
       "      <th>HAA_FEMALE</th>\n",
       "      <th>HNA_MALE</th>\n",
       "      <th>HNA_FEMALE</th>\n",
       "      <th>HTOM_MALE</th>\n",
       "      <th>HTOM_FEMALE</th>\n",
       "    </tr>\n",
       "  </thead>\n",
       "  <tbody>\n",
       "    <tr>\n",
       "      <th>520</th>\n",
       "      <td>50</td>\n",
       "      <td>36</td>\n",
       "      <td>5</td>\n",
       "      <td>New York</td>\n",
       "      <td>Bronx County</td>\n",
       "      <td>1</td>\n",
       "      <td>0</td>\n",
       "      <td>21409</td>\n",
       "      <td>10831</td>\n",
       "      <td>10578</td>\n",
       "      <td>...</td>\n",
       "      <td>1460</td>\n",
       "      <td>1436</td>\n",
       "      <td>118</td>\n",
       "      <td>115</td>\n",
       "      <td>45</td>\n",
       "      <td>46</td>\n",
       "      <td>16</td>\n",
       "      <td>32</td>\n",
       "      <td>184</td>\n",
       "      <td>163</td>\n",
       "    </tr>\n",
       "    <tr>\n",
       "      <th>521</th>\n",
       "      <td>50</td>\n",
       "      <td>36</td>\n",
       "      <td>5</td>\n",
       "      <td>New York</td>\n",
       "      <td>Bronx County</td>\n",
       "      <td>1</td>\n",
       "      <td>1</td>\n",
       "      <td>88290</td>\n",
       "      <td>44963</td>\n",
       "      <td>43327</td>\n",
       "      <td>...</td>\n",
       "      <td>6256</td>\n",
       "      <td>5895</td>\n",
       "      <td>464</td>\n",
       "      <td>483</td>\n",
       "      <td>131</td>\n",
       "      <td>166</td>\n",
       "      <td>128</td>\n",
       "      <td>113</td>\n",
       "      <td>719</td>\n",
       "      <td>700</td>\n",
       "    </tr>\n",
       "    <tr>\n",
       "      <th>522</th>\n",
       "      <td>50</td>\n",
       "      <td>36</td>\n",
       "      <td>5</td>\n",
       "      <td>New York</td>\n",
       "      <td>Bronx County</td>\n",
       "      <td>1</td>\n",
       "      <td>2</td>\n",
       "      <td>119731</td>\n",
       "      <td>61008</td>\n",
       "      <td>58723</td>\n",
       "      <td>...</td>\n",
       "      <td>8402</td>\n",
       "      <td>8110</td>\n",
       "      <td>698</td>\n",
       "      <td>643</td>\n",
       "      <td>180</td>\n",
       "      <td>200</td>\n",
       "      <td>194</td>\n",
       "      <td>140</td>\n",
       "      <td>845</td>\n",
       "      <td>826</td>\n",
       "    </tr>\n",
       "    <tr>\n",
       "      <th>523</th>\n",
       "      <td>50</td>\n",
       "      <td>36</td>\n",
       "      <td>5</td>\n",
       "      <td>New York</td>\n",
       "      <td>Bronx County</td>\n",
       "      <td>1</td>\n",
       "      <td>3</td>\n",
       "      <td>107786</td>\n",
       "      <td>54982</td>\n",
       "      <td>52804</td>\n",
       "      <td>...</td>\n",
       "      <td>7164</td>\n",
       "      <td>6898</td>\n",
       "      <td>613</td>\n",
       "      <td>562</td>\n",
       "      <td>175</td>\n",
       "      <td>198</td>\n",
       "      <td>147</td>\n",
       "      <td>143</td>\n",
       "      <td>744</td>\n",
       "      <td>714</td>\n",
       "    </tr>\n",
       "    <tr>\n",
       "      <th>524</th>\n",
       "      <td>50</td>\n",
       "      <td>36</td>\n",
       "      <td>5</td>\n",
       "      <td>New York</td>\n",
       "      <td>Bronx County</td>\n",
       "      <td>1</td>\n",
       "      <td>4</td>\n",
       "      <td>101223</td>\n",
       "      <td>51544</td>\n",
       "      <td>49679</td>\n",
       "      <td>...</td>\n",
       "      <td>6089</td>\n",
       "      <td>6206</td>\n",
       "      <td>547</td>\n",
       "      <td>494</td>\n",
       "      <td>160</td>\n",
       "      <td>180</td>\n",
       "      <td>130</td>\n",
       "      <td>125</td>\n",
       "      <td>632</td>\n",
       "      <td>629</td>\n",
       "    </tr>\n",
       "  </tbody>\n",
       "</table>\n",
       "<p>5 rows × 50 columns</p>\n",
       "</div>"
      ],
      "text/plain": [
       "     SUMLEV  STATE  COUNTY    STNAME       CTYNAME  YEAR  AGEGRP  TOT_POP  \\\n",
       "520      50     36       5  New York  Bronx County     1       0    21409   \n",
       "521      50     36       5  New York  Bronx County     1       1    88290   \n",
       "522      50     36       5  New York  Bronx County     1       2   119731   \n",
       "523      50     36       5  New York  Bronx County     1       3   107786   \n",
       "524      50     36       5  New York  Bronx County     1       4   101223   \n",
       "\n",
       "     TOT_MALE  TOT_FEMALE  ...  HBA_MALE  HBA_FEMALE  HIA_MALE  HIA_FEMALE  \\\n",
       "520     10831       10578  ...      1460        1436       118         115   \n",
       "521     44963       43327  ...      6256        5895       464         483   \n",
       "522     61008       58723  ...      8402        8110       698         643   \n",
       "523     54982       52804  ...      7164        6898       613         562   \n",
       "524     51544       49679  ...      6089        6206       547         494   \n",
       "\n",
       "     HAA_MALE  HAA_FEMALE  HNA_MALE  HNA_FEMALE  HTOM_MALE  HTOM_FEMALE  \n",
       "520        45          46        16          32        184          163  \n",
       "521       131         166       128         113        719          700  \n",
       "522       180         200       194         140        845          826  \n",
       "523       175         198       147         143        744          714  \n",
       "524       160         180       130         125        632          629  \n",
       "\n",
       "[5 rows x 50 columns]"
      ]
     },
     "execution_count": 9,
     "metadata": {},
     "output_type": "execute_result"
    }
   ],
   "source": [
    "# Take counties that correspond with 5 boroughs of NYC\n",
    "NYC_census = NY_census[(NY_census['CTYNAME'] == 'Kings County') | (NY_census['CTYNAME'] == 'New York County') | (NY_census['CTYNAME'] == 'Richmond County') | (NY_census['CTYNAME'] == 'Queens County') | (NY_census['CTYNAME'] == 'Bronx County')].copy()\n",
    "NYC_census.head()"
   ]
  },
  {
   "cell_type": "code",
   "execution_count": 10,
   "metadata": {},
   "outputs": [
    {
     "name": "stdout",
     "output_type": "stream",
     "text": [
      "683214\n"
     ]
    }
   ],
   "source": [
    "# Atot == sum of total populations for all age groups in Austin County\n",
    "Atot = ATX_census['TOT_POP'].sum()\n",
    "print(Atot)"
   ]
  },
  {
   "cell_type": "code",
   "execution_count": 11,
   "metadata": {},
   "outputs": [
    {
     "name": "stdout",
     "output_type": "stream",
     "text": [
      "69964\n"
     ]
    }
   ],
   "source": [
    "# AtotB == sum of black or african american males and females across all age groups in Austin County\n",
    "AtotBmale = ATX_census['BA_MALE'].sum()\n",
    "AtotBfemale = ATX_census['BA_FEMALE'].sum()\n",
    "AtotB = AtotBmale + AtotBfemale\n",
    "print(AtotB)"
   ]
  },
  {
   "cell_type": "code",
   "execution_count": 12,
   "metadata": {},
   "outputs": [
    {
     "name": "stdout",
     "output_type": "stream",
     "text": [
      "Percent of Black or African American alone in Austin County: 10.24%\n"
     ]
    }
   ],
   "source": [
    "ApB = (AtotB / Atot) * 100\n",
    "print(\"Percent of Black or African American alone in Austin County: {:.2f}%\".format(ApB))"
   ]
  },
  {
   "cell_type": "code",
   "execution_count": 13,
   "metadata": {},
   "outputs": [
    {
     "name": "stdout",
     "output_type": "stream",
     "text": [
      "600112\n"
     ]
    }
   ],
   "source": [
    "# AtotW == sum of white males and females across all age groups in Austin County\n",
    "AtotWmale = ATX_census['WA_MALE'].sum()\n",
    "AtotWfemale = ATX_census['WA_FEMALE'].sum()\n",
    "AtotW = AtotWmale + AtotWfemale\n",
    "print(AtotW)"
   ]
  },
  {
   "cell_type": "code",
   "execution_count": 14,
   "metadata": {},
   "outputs": [
    {
     "name": "stdout",
     "output_type": "stream",
     "text": [
      "Percent of White alone: 87.84%\n"
     ]
    }
   ],
   "source": [
    "ApW = (AtotW / Atot) * 100\n",
    "print(\"Percent of White alone: {:.2f}%\".format(ApW))"
   ]
  },
  {
   "cell_type": "code",
   "execution_count": 15,
   "metadata": {},
   "outputs": [
    {
     "name": "stdout",
     "output_type": "stream",
     "text": [
      "White alone and Black or African American alone make up 98.08% of total population in Austin County.\n"
     ]
    }
   ],
   "source": [
    "ApTotal = ((AtotB + AtotW)/Atot)*100\n",
    "print(\"White alone and Black or African American alone make up {:.2f}% of total population in Austin County.\".format(ApTotal))"
   ]
  },
  {
   "cell_type": "code",
   "execution_count": 16,
   "metadata": {},
   "outputs": [
    {
     "name": "stdout",
     "output_type": "stream",
     "text": [
      "209701790\n"
     ]
    }
   ],
   "source": [
    "# Ntot == sum of total populations for all age groups in all New York City counties in 2010\n",
    "Ntot = NYC_census['TOT_POP'].sum()\n",
    "print(Ntot)"
   ]
  },
  {
   "cell_type": "code",
   "execution_count": 17,
   "metadata": {},
   "outputs": [
    {
     "name": "stdout",
     "output_type": "stream",
     "text": [
      "61595672\n"
     ]
    }
   ],
   "source": [
    "# NtotB == sum of black or african american males and females across all age groups in New York City counties\n",
    "NtotBmale = NYC_census['BA_MALE'].sum()\n",
    "NtotBfemale = NYC_census['BA_FEMALE'].sum()\n",
    "NtotB = NtotBmale + NtotBfemale\n",
    "print(NtotB)"
   ]
  },
  {
   "cell_type": "code",
   "execution_count": 18,
   "metadata": {},
   "outputs": [
    {
     "name": "stdout",
     "output_type": "stream",
     "text": [
      "Percent of Black or African American alone in New York City counties: 29.37%\n"
     ]
    }
   ],
   "source": [
    "NpB = (NtotB / Ntot) * 100\n",
    "print(\"Percent of Black or African American alone in New York City counties: {:.2f}%\".format(NpB))"
   ]
  },
  {
   "cell_type": "code",
   "execution_count": 19,
   "metadata": {},
   "outputs": [
    {
     "name": "stdout",
     "output_type": "stream",
     "text": [
      "115994048\n"
     ]
    }
   ],
   "source": [
    "# NtotW == sum of white males and females across all age groups in New York City counties\n",
    "NtotWmale = NYC_census['WA_MALE'].sum()\n",
    "NtotWfemale = NYC_census['WA_FEMALE'].sum()\n",
    "NtotW = NtotWmale + NtotWfemale\n",
    "print(NtotW)"
   ]
  },
  {
   "cell_type": "code",
   "execution_count": 20,
   "metadata": {},
   "outputs": [
    {
     "name": "stdout",
     "output_type": "stream",
     "text": [
      "Percent of White alone in New York City counties: 55.31%\n"
     ]
    }
   ],
   "source": [
    "NpW = (NtotW / Ntot) * 100\n",
    "print(\"Percent of White alone in New York City counties: {:.2f}%\".format(NpW))"
   ]
  },
  {
   "cell_type": "code",
   "execution_count": 21,
   "metadata": {},
   "outputs": [
    {
     "name": "stdout",
     "output_type": "stream",
     "text": [
      "White alone and Black or African American alone make up 84.69% of total population in New York City counties.\n"
     ]
    }
   ],
   "source": [
    "NpTotal = ((NtotB + NtotW)/Ntot)*100\n",
    "print(\"White alone and Black or African American alone make up {:.2f}% of total population in New York City counties.\".format(NpTotal))"
   ]
  },
  {
   "cell_type": "code",
   "execution_count": 22,
   "metadata": {},
   "outputs": [],
   "source": [
    "# Put percentages of black/white into dataframe\n",
    "pBW_census = pd.DataFrame({'Austin': [ApB, ApW], 'NYC': [NpB, NpW]}, index=['Black or African American alone', 'White alone'])"
   ]
  },
  {
   "cell_type": "code",
   "execution_count": 23,
   "metadata": {},
   "outputs": [
    {
     "data": {
      "text/plain": [
       "array([<AxesSubplot:ylabel='Austin'>, <AxesSubplot:ylabel='NYC'>],\n",
       "      dtype=object)"
      ]
     },
     "execution_count": 23,
     "metadata": {},
     "output_type": "execute_result"
    },
    {
     "data": {
      "image/png": "[encoded data removed]",
      "text/plain": [
       "<Figure size 1080x360 with 2 Axes>"
      ]
     },
     "metadata": {},
     "output_type": "display_data"
    }
   ],
   "source": [
    "# Pie plots showing breakdown of white vs. black ethnicity in the two areas\n",
    "pBW_census.plot.pie(subplots=True, legend=None, figsize=(15,5))"
   ]
  },
  {
   "cell_type": "code",
   "execution_count": 24,
   "metadata": {},
   "outputs": [
    {
     "name": "stdout",
     "output_type": "stream",
     "text": [
      "60734\n"
     ]
    }
   ],
   "source": [
    "# Total number of Arrests in Austin County from 2014-2019\n",
    "APDtot = len(APD_arrests.index)\n",
    "print(APDtot)"
   ]
  },
  {
   "cell_type": "code",
   "execution_count": 25,
   "metadata": {},
   "outputs": [
    {
     "name": "stdout",
     "output_type": "stream",
     "text": [
      "14739\n"
     ]
    }
   ],
   "source": [
    "# Total number of Black people arrested in Austin County from 2014-2019\n",
    "APDtotB = len(APD_arrests[APD_arrests['APD_RACE_DESC'] == 'BLACK'])\n",
    "print(APDtotB)"
   ]
  },
  {
   "cell_type": "code",
   "execution_count": 26,
   "metadata": {},
   "outputs": [
    {
     "name": "stdout",
     "output_type": "stream",
     "text": [
      "19934\n"
     ]
    }
   ],
   "source": [
    "# Total number of White people arrested in Austin County from 2014-2019\n",
    "APDtotW = len(APD_arrests[APD_arrests['APD_RACE_DESC'] == 'WHITE'])\n",
    "print(APDtotW)"
   ]
  },
  {
   "cell_type": "code",
   "execution_count": 27,
   "metadata": {},
   "outputs": [
    {
     "name": "stdout",
     "output_type": "stream",
     "text": [
      "Percent of people arrested in Austin County from 2014-2019 that were Black: 24.27%\n"
     ]
    }
   ],
   "source": [
    "# Pecent of people arrests whose ethnicity was listed as Black\n",
    "APDpB = (APDtotB / APDtot) * 100\n",
    "print(\"Percent of people arrested in Austin County from 2014-2019 that were Black: {:.2f}%\".format(APDpB))"
   ]
  },
  {
   "cell_type": "code",
   "execution_count": 28,
   "metadata": {},
   "outputs": [
    {
     "name": "stdout",
     "output_type": "stream",
     "text": [
      "Percent of people arrested in Austin County from 2014-2019 that were White: 32.82%\n"
     ]
    }
   ],
   "source": [
    "# Pecent of people arrests whose ethnicity was listed as White\n",
    "APDpW = (APDtotW / APDtot) * 100\n",
    "print(\"Percent of people arrested in Austin County from 2014-2019 that were White: {:.2f}%\".format(APDpW))"
   ]
  },
  {
   "cell_type": "code",
   "execution_count": 29,
   "metadata": {},
   "outputs": [
    {
     "name": "stdout",
     "output_type": "stream",
     "text": [
      "People of White and Black ethnicities make up 57.09% of total arrests in Austin County from 2014-2019.\n"
     ]
    }
   ],
   "source": [
    "APDpTotal = ((APDtotB + APDtotW)/APDtot)*100\n",
    "print(\"People of White and Black ethnicities make up {:.2f}% of total arrests in Austin County from 2014-2019.\".format(APDpTotal))"
   ]
  },
  {
   "cell_type": "code",
   "execution_count": 30,
   "metadata": {},
   "outputs": [
    {
     "name": "stdout",
     "output_type": "stream",
     "text": [
      "5012956\n"
     ]
    }
   ],
   "source": [
    "# Total number of Arrests in New York City counties from 2011-2015\n",
    "NYPDtot = len(NYPD_arrests.index)\n",
    "print(NYPDtot)"
   ]
  },
  {
   "cell_type": "code",
   "execution_count": 31,
   "metadata": {},
   "outputs": [
    {
     "name": "stdout",
     "output_type": "stream",
     "text": [
      "2433510\n"
     ]
    }
   ],
   "source": [
    "# Total number of Black people arrested in New York City counties from 2011-2015\n",
    "NYPDtotB = len(NYPD_arrests[NYPD_arrests['PERP_RACE'] == 'BLACK'])\n",
    "print(NYPDtotB)"
   ]
  },
  {
   "cell_type": "code",
   "execution_count": 32,
   "metadata": {},
   "outputs": [
    {
     "name": "stdout",
     "output_type": "stream",
     "text": [
      "604892\n"
     ]
    }
   ],
   "source": [
    "# Total number of White people arrested in New York City counties from 2011-2015\n",
    "NYPDtotW = len(NYPD_arrests[NYPD_arrests['PERP_RACE'] == 'WHITE'])\n",
    "print(NYPDtotW)"
   ]
  },
  {
   "cell_type": "code",
   "execution_count": 33,
   "metadata": {},
   "outputs": [
    {
     "name": "stdout",
     "output_type": "stream",
     "text": [
      "Percent of people arrested in New York City counties from 2011-2015 that were Black: 48.54%\n"
     ]
    }
   ],
   "source": [
    "# Pecent of people arrests whose ethnicity was listed as Black\n",
    "NYPDpB = (NYPDtotB / NYPDtot) * 100\n",
    "print(\"Percent of people arrested in New York City counties from 2011-2015 that were Black: {:.2f}%\".format(NYPDpB))"
   ]
  },
  {
   "cell_type": "code",
   "execution_count": 34,
   "metadata": {},
   "outputs": [
    {
     "name": "stdout",
     "output_type": "stream",
     "text": [
      "Percent of people arrested in New York City counties from 2011-2015 that were White: 12.07%\n"
     ]
    }
   ],
   "source": [
    "# Pecent of people arrests whose ethnicity was listed as White\n",
    "NYPDpW = (NYPDtotW / NYPDtot) * 100\n",
    "print(\"Percent of people arrested in New York City counties from 2011-2015 that were White: {:.2f}%\".format(NYPDpW))"
   ]
  },
  {
   "cell_type": "code",
   "execution_count": 35,
   "metadata": {},
   "outputs": [
    {
     "name": "stdout",
     "output_type": "stream",
     "text": [
      "People of White and Black ethnicities make up 60.61% of total arrests in New York City counties from 2011-2015.\n"
     ]
    }
   ],
   "source": [
    "NYPDpTotal = ((NYPDtotB + NYPDtotW)/NYPDtot)*100\n",
    "print(\"People of White and Black ethnicities make up {:.2f}% of total arrests in New York City counties from 2011-2015.\".format(NYPDpTotal))"
   ]
  },
  {
   "cell_type": "code",
   "execution_count": 36,
   "metadata": {},
   "outputs": [],
   "source": [
    "# Put percentages of black/white into dataframe\n",
    "pBW_arrests = pd.DataFrame({'APD': [APDpB, APDpW], 'NYPD': [NYPDpB, NYPDpW]}, index=['Black', 'White'])"
   ]
  },
  {
   "cell_type": "code",
   "execution_count": 37,
   "metadata": {},
   "outputs": [
    {
     "data": {
      "text/plain": [
       "array([<AxesSubplot:ylabel='APD'>, <AxesSubplot:ylabel='NYPD'>],\n",
       "      dtype=object)"
      ]
     },
     "execution_count": 37,
     "metadata": {},
     "output_type": "execute_result"
    },
    {
     "data": {
      "image/png": "[encoded data removed]",
      "text/plain": [
       "<Figure size 1080x360 with 2 Axes>"
      ]
     },
     "metadata": {},
     "output_type": "display_data"
    }
   ],
   "source": [
    "# Pie plots showing breakdown of white vs. black ethnicity in the two areas\n",
    "pBW_arrests.plot.pie(subplots=True, legend=None, figsize=(15,5))"
   ]
  },
  {
   "cell_type": "markdown",
   "metadata": {},
   "source": [
    "When looking at the pie charts, one can see that both populations are majority white, \n",
    "but more black people are arrested than white people in New York City, and it is almost even in Austin. One can make a weak\n",
    "inference that there may be some racial bias in the NYPD because the population is majority white, but far more black people\n",
    "are arrested than white. Obviously this inference is weak because each arrest has specific cirumstances that cannot be accounted for."
   ]
  },
  {
   "cell_type": "code",
   "execution_count": 38,
   "metadata": {},
   "outputs": [
    {
     "data": {
      "text/plain": [
       "array(['WHITE HISPANIC', 'BLACK', 'BLACK HISPANIC',\n",
       "       'ASIAN / PACIFIC ISLANDER', 'WHITE', 'UNKNOWN',\n",
       "       'AMERICAN INDIAN/ALASKAN NATIVE', 'OTHER'], dtype=object)"
      ]
     },
     "execution_count": 38,
     "metadata": {},
     "output_type": "execute_result"
    }
   ],
   "source": [
    "# Check NYPD arrests race values\n",
    "NYPD_arrests['PERP_RACE'].unique()"
   ]
  },
  {
   "cell_type": "code",
   "execution_count": 39,
   "metadata": {},
   "outputs": [],
   "source": [
    "# Remove unknown and other race from NYPD Arrests\n",
    "NYPD_arrests_clean = NYPD_arrests[(NYPD_arrests['PERP_RACE'] != \"OTHER\") & (NYPD_arrests['PERP_RACE'] != \"UNKNOWN\")].copy()"
   ]
  },
  {
   "cell_type": "code",
   "execution_count": 40,
   "metadata": {},
   "outputs": [
    {
     "data": {
      "text/plain": [
       "array(['WHITE HISPANIC', 'BLACK', 'BLACK HISPANIC',\n",
       "       'ASIAN / PACIFIC ISLANDER', 'WHITE',\n",
       "       'AMERICAN INDIAN/ALASKAN NATIVE'], dtype=object)"
      ]
     },
     "execution_count": 40,
     "metadata": {},
     "output_type": "execute_result"
    }
   ],
   "source": [
    "NYPD_arrests_clean['PERP_RACE'].unique()"
   ]
  },
  {
   "cell_type": "code",
   "execution_count": 41,
   "metadata": {},
   "outputs": [
    {
     "data": {
      "text/plain": [
       "array(['45-64', '25-44', '18-24', '<18', '65+', nan, '924', '932', '929',\n",
       "       '941', '930', '940', '922', '928', '945', '955', '936', '927',\n",
       "       '943', '934', '948', '895', '808', '812', '317', '909', '949',\n",
       "       '923', '914', '896', '942', '709', '640', '951', '926', '935',\n",
       "       '925', '212', '931', '200', '954', '894', '314', '937', '723',\n",
       "       '947', '921', '309', '959', '910', '938', '912', '446', '330',\n",
       "       '944', '320', '339', '323', '965', '946', 'UNKNOWN', '194', '352',\n",
       "       '920', '708', '816', '316', '237', '939', '740', '952', '338',\n",
       "       '933', '1042', '2000', '1937', '1916', '1928', '2007', '1918',\n",
       "       '1947', '1998', '1953', '1942', '1024', '1948', '1922', '1048',\n",
       "       '1018', '918'], dtype=object)"
      ]
     },
     "execution_count": 41,
     "metadata": {},
     "output_type": "execute_result"
    }
   ],
   "source": [
    "# Check NYPD arrests age group values\n",
    "NYPD_arrests_clean['AGE_GROUP'].unique()"
   ]
  },
  {
   "cell_type": "code",
   "execution_count": 42,
   "metadata": {},
   "outputs": [
    {
     "data": {
      "text/plain": [
       "array(['WHITE HISPANIC', 'BLACK', 'BLACK HISPANIC',\n",
       "       'ASIAN / PACIFIC ISLANDER', 'WHITE',\n",
       "       'AMERICAN INDIAN/ALASKAN NATIVE'], dtype=object)"
      ]
     },
     "execution_count": 42,
     "metadata": {},
     "output_type": "execute_result"
    }
   ],
   "source": [
    "NYPD_arrests_clean['PERP_RACE'].unique()"
   ]
  },
  {
   "cell_type": "code",
   "execution_count": 43,
   "metadata": {},
   "outputs": [],
   "source": [
    "# Clean NYPD arrests age groups\n",
    "NYPD_arrests_clean = NYPD_arrests_clean[(NYPD_arrests_clean['AGE_GROUP'] == '<18') | (NYPD_arrests_clean['AGE_GROUP'] == '18-24') | (NYPD_arrests_clean['AGE_GROUP'] == '25-44') | (NYPD_arrests_clean['AGE_GROUP'] == '45-64') | (NYPD_arrests_clean['AGE_GROUP'] == '65+')]"
   ]
  },
  {
   "cell_type": "code",
   "execution_count": 44,
   "metadata": {},
   "outputs": [
    {
     "data": {
      "text/plain": [
       "array(['WHITE HISPANIC', 'BLACK', 'BLACK HISPANIC',\n",
       "       'ASIAN / PACIFIC ISLANDER', 'WHITE',\n",
       "       'AMERICAN INDIAN/ALASKAN NATIVE'], dtype=object)"
      ]
     },
     "execution_count": 44,
     "metadata": {},
     "output_type": "execute_result"
    }
   ],
   "source": [
    "#NYPD_arrests_clean['AGE_GROUP'].unique()\n",
    "NYPD_arrests_clean['PERP_RACE'].unique()"
   ]
  },
  {
   "cell_type": "raw",
   "metadata": {},
   "source": [
    "type(NYPD_arrests_clean['ARREST_DATE'][0])"
   ]
  },
  {
   "cell_type": "code",
   "execution_count": 45,
   "metadata": {},
   "outputs": [
    {
     "data": {
      "text/html": [
       "<div>\n",
       "<style scoped>\n",
       "    .dataframe tbody tr th:only-of-type {\n",
       "        vertical-align: middle;\n",
       "    }\n",
       "\n",
       "    .dataframe tbody tr th {\n",
       "        vertical-align: top;\n",
       "    }\n",
       "\n",
       "    .dataframe thead th {\n",
       "        text-align: right;\n",
       "    }\n",
       "</style>\n",
       "<table border=\"1\" class=\"dataframe\">\n",
       "  <thead>\n",
       "    <tr style=\"text-align: right;\">\n",
       "      <th></th>\n",
       "      <th>ARREST_KEY</th>\n",
       "      <th>ARREST_DATE</th>\n",
       "      <th>PD_CD</th>\n",
       "      <th>PD_DESC</th>\n",
       "      <th>KY_CD</th>\n",
       "      <th>OFNS_DESC</th>\n",
       "      <th>LAW_CODE</th>\n",
       "      <th>LAW_CAT_CD</th>\n",
       "      <th>ARREST_BORO</th>\n",
       "      <th>ARREST_PRECINCT</th>\n",
       "      <th>JURISDICTION_CODE</th>\n",
       "      <th>AGE_GROUP</th>\n",
       "      <th>PERP_SEX</th>\n",
       "      <th>PERP_RACE</th>\n",
       "      <th>X_COORD_CD</th>\n",
       "      <th>Y_COORD_CD</th>\n",
       "      <th>Latitude</th>\n",
       "      <th>Longitude</th>\n",
       "      <th>Lon_Lat</th>\n",
       "      <th>Year</th>\n",
       "    </tr>\n",
       "  </thead>\n",
       "  <tbody>\n",
       "    <tr>\n",
       "      <th>0</th>\n",
       "      <td>144026181</td>\n",
       "      <td>06/26/2015</td>\n",
       "      <td>639.0</td>\n",
       "      <td>AGGRAVATED HARASSMENT 2</td>\n",
       "      <td>361.0</td>\n",
       "      <td>OFF. AGNST PUB ORD SENSBLTY &amp; RGHTS TO PRIV</td>\n",
       "      <td>PL 2403002</td>\n",
       "      <td>M</td>\n",
       "      <td>Q</td>\n",
       "      <td>102</td>\n",
       "      <td>0.0</td>\n",
       "      <td>45-64</td>\n",
       "      <td>M</td>\n",
       "      <td>WHITE HISPANIC</td>\n",
       "      <td>1031076.0</td>\n",
       "      <td>193779.0</td>\n",
       "      <td>40.698440</td>\n",
       "      <td>-73.831130</td>\n",
       "      <td>POINT (-73.83112953899997 40.69843969400005)</td>\n",
       "      <td>2015</td>\n",
       "    </tr>\n",
       "    <tr>\n",
       "      <th>1</th>\n",
       "      <td>144507595</td>\n",
       "      <td>07/14/2015</td>\n",
       "      <td>969.0</td>\n",
       "      <td>TRAFFIC,UNCLASSIFIED INFRACTION</td>\n",
       "      <td>881.0</td>\n",
       "      <td>OTHER TRAFFIC INFRACTION</td>\n",
       "      <td>VTL051101A</td>\n",
       "      <td>M</td>\n",
       "      <td>M</td>\n",
       "      <td>10</td>\n",
       "      <td>3.0</td>\n",
       "      <td>25-44</td>\n",
       "      <td>M</td>\n",
       "      <td>WHITE HISPANIC</td>\n",
       "      <td>984791.0</td>\n",
       "      <td>209846.0</td>\n",
       "      <td>40.742664</td>\n",
       "      <td>-73.998049</td>\n",
       "      <td>POINT (-73.99804910799998 40.74266360800004)</td>\n",
       "      <td>2015</td>\n",
       "    </tr>\n",
       "    <tr>\n",
       "      <th>2</th>\n",
       "      <td>144565062</td>\n",
       "      <td>07/16/2015</td>\n",
       "      <td>101.0</td>\n",
       "      <td>ASSAULT 3</td>\n",
       "      <td>344.0</td>\n",
       "      <td>ASSAULT 3 &amp; RELATED OFFENSES</td>\n",
       "      <td>PL 1200001</td>\n",
       "      <td>M</td>\n",
       "      <td>K</td>\n",
       "      <td>90</td>\n",
       "      <td>0.0</td>\n",
       "      <td>18-24</td>\n",
       "      <td>F</td>\n",
       "      <td>WHITE HISPANIC</td>\n",
       "      <td>994026.0</td>\n",
       "      <td>195548.0</td>\n",
       "      <td>40.703414</td>\n",
       "      <td>-73.964743</td>\n",
       "      <td>POINT (-73.96474295699994 40.70341366900004)</td>\n",
       "      <td>2015</td>\n",
       "    </tr>\n",
       "    <tr>\n",
       "      <th>3</th>\n",
       "      <td>144500188</td>\n",
       "      <td>07/14/2015</td>\n",
       "      <td>879.0</td>\n",
       "      <td>ADM.CODE,UNCLASSIFIED VIOLATION</td>\n",
       "      <td>675.0</td>\n",
       "      <td>ADMINISTRATIVE CODE</td>\n",
       "      <td>AC 010125B</td>\n",
       "      <td>V</td>\n",
       "      <td>Q</td>\n",
       "      <td>103</td>\n",
       "      <td>0.0</td>\n",
       "      <td>25-44</td>\n",
       "      <td>M</td>\n",
       "      <td>WHITE HISPANIC</td>\n",
       "      <td>1037132.0</td>\n",
       "      <td>196129.0</td>\n",
       "      <td>40.704856</td>\n",
       "      <td>-73.809271</td>\n",
       "      <td>POINT (-73.809270971 40.70485576300007)</td>\n",
       "      <td>2015</td>\n",
       "    </tr>\n",
       "    <tr>\n",
       "      <th>4</th>\n",
       "      <td>144216044</td>\n",
       "      <td>07/03/2015</td>\n",
       "      <td>478.0</td>\n",
       "      <td>THEFT OF SERVICES, UNCLASSIFIED</td>\n",
       "      <td>343.0</td>\n",
       "      <td>OTHER OFFENSES RELATED TO THEFT</td>\n",
       "      <td>PL 1651503</td>\n",
       "      <td>M</td>\n",
       "      <td>M</td>\n",
       "      <td>10</td>\n",
       "      <td>1.0</td>\n",
       "      <td>18-24</td>\n",
       "      <td>M</td>\n",
       "      <td>WHITE HISPANIC</td>\n",
       "      <td>984602.0</td>\n",
       "      <td>210686.0</td>\n",
       "      <td>40.744969</td>\n",
       "      <td>-73.998731</td>\n",
       "      <td>POINT (-73.99873112099993 40.74496920800005)</td>\n",
       "      <td>2015</td>\n",
       "    </tr>\n",
       "  </tbody>\n",
       "</table>\n",
       "</div>"
      ],
      "text/plain": [
       "   ARREST_KEY ARREST_DATE  PD_CD                          PD_DESC  KY_CD  \\\n",
       "0   144026181  06/26/2015  639.0          AGGRAVATED HARASSMENT 2  361.0   \n",
       "1   144507595  07/14/2015  969.0  TRAFFIC,UNCLASSIFIED INFRACTION  881.0   \n",
       "2   144565062  07/16/2015  101.0                        ASSAULT 3  344.0   \n",
       "3   144500188  07/14/2015  879.0  ADM.CODE,UNCLASSIFIED VIOLATION  675.0   \n",
       "4   144216044  07/03/2015  478.0  THEFT OF SERVICES, UNCLASSIFIED  343.0   \n",
       "\n",
       "                                     OFNS_DESC    LAW_CODE LAW_CAT_CD  \\\n",
       "0  OFF. AGNST PUB ORD SENSBLTY & RGHTS TO PRIV  PL 2403002          M   \n",
       "1                     OTHER TRAFFIC INFRACTION  VTL051101A          M   \n",
       "2                 ASSAULT 3 & RELATED OFFENSES  PL 1200001          M   \n",
       "3                          ADMINISTRATIVE CODE  AC 010125B          V   \n",
       "4              OTHER OFFENSES RELATED TO THEFT  PL 1651503          M   \n",
       "\n",
       "  ARREST_BORO  ARREST_PRECINCT  JURISDICTION_CODE AGE_GROUP PERP_SEX  \\\n",
       "0           Q              102                0.0     45-64        M   \n",
       "1           M               10                3.0     25-44        M   \n",
       "2           K               90                0.0     18-24        F   \n",
       "3           Q              103                0.0     25-44        M   \n",
       "4           M               10                1.0     18-24        M   \n",
       "\n",
       "        PERP_RACE  X_COORD_CD  Y_COORD_CD   Latitude  Longitude  \\\n",
       "0  WHITE HISPANIC   1031076.0    193779.0  40.698440 -73.831130   \n",
       "1  WHITE HISPANIC    984791.0    209846.0  40.742664 -73.998049   \n",
       "2  WHITE HISPANIC    994026.0    195548.0  40.703414 -73.964743   \n",
       "3  WHITE HISPANIC   1037132.0    196129.0  40.704856 -73.809271   \n",
       "4  WHITE HISPANIC    984602.0    210686.0  40.744969 -73.998731   \n",
       "\n",
       "                                        Lon_Lat  Year  \n",
       "0  POINT (-73.83112953899997 40.69843969400005)  2015  \n",
       "1  POINT (-73.99804910799998 40.74266360800004)  2015  \n",
       "2  POINT (-73.96474295699994 40.70341366900004)  2015  \n",
       "3       POINT (-73.809270971 40.70485576300007)  2015  \n",
       "4  POINT (-73.99873112099993 40.74496920800005)  2015  "
      ]
     },
     "execution_count": 45,
     "metadata": {},
     "output_type": "execute_result"
    }
   ],
   "source": [
    "# Make a year column\n",
    "NYPD_arrests_clean['Year'] = pd.DatetimeIndex(NYPD_arrests_clean['ARREST_DATE']).year\n",
    "NYPD_arrests_clean.head()"
   ]
  },
  {
   "cell_type": "code",
   "execution_count": 46,
   "metadata": {},
   "outputs": [
    {
     "data": {
      "text/plain": [
       "array([2015, 2010, 2018, 2014, 2013, 2012, 2011, 2017, 2016, 2009, 2008,\n",
       "       2007, 2006, 2019], dtype=int64)"
      ]
     },
     "execution_count": 46,
     "metadata": {},
     "output_type": "execute_result"
    }
   ],
   "source": [
    "NYPD_arrests_clean['Year'].unique()"
   ]
  },
  {
   "cell_type": "code",
   "execution_count": 47,
   "metadata": {},
   "outputs": [],
   "source": [
    "# Update NYPD total after cleaning\n",
    "NYPDtot_filtered = len(NYPD_arrests.index)"
   ]
  },
  {
   "cell_type": "code",
   "execution_count": 48,
   "metadata": {
    "scrolled": true
   },
   "outputs": [
    {
     "data": {
      "text/plain": [
       "array([ 1,  2,  3,  4,  5,  6,  7,  8,  9, 10, 11, 12, 13], dtype=int64)"
      ]
     },
     "execution_count": 48,
     "metadata": {},
     "output_type": "execute_result"
    }
   ],
   "source": [
    "# Years in census data\n",
    "ATX_census['YEAR'].unique()"
   ]
  },
  {
   "cell_type": "code",
   "execution_count": 49,
   "metadata": {},
   "outputs": [],
   "source": [
    "# Separate ATX census into 4 individual years + 4yr\n",
    "ATX_census_2007 = ATX_census[ATX_census['YEAR'] == 9]\n",
    "ATX_census_2008 = ATX_census[ATX_census['YEAR'] == 10]\n",
    "ATX_census_2009 = ATX_census[ATX_census['YEAR'] == 11]\n",
    "ATX_census_2010 = ATX_census[ATX_census['YEAR'] == 13]\n",
    "ATX_census_4yr = ATX_census[(ATX_census['YEAR'] == 9) | (ATX_census['YEAR'] == 10) | (ATX_census['YEAR'] == 11) | (ATX_census['YEAR'] == 13)]"
   ]
  },
  {
   "cell_type": "code",
   "execution_count": 50,
   "metadata": {},
   "outputs": [
    {
     "name": "stdout",
     "output_type": "stream",
     "text": [
      "20\n",
      "20\n"
     ]
    }
   ],
   "source": [
    "# Check 2010 census vs estimate\n",
    "ATX_census_2010_censusdata = ATX_census[ATX_census['YEAR'] == 12]\n",
    "print(len(ATX_census_2010))\n",
    "print(len(ATX_census_2010_censusdata))"
   ]
  },
  {
   "cell_type": "code",
   "execution_count": 51,
   "metadata": {},
   "outputs": [],
   "source": [
    "# Separate NYC census into 4 individual years + 4yr\n",
    "NYC_census_2007 = NYC_census[NYC_census['YEAR'] == 9]\n",
    "NYC_census_2008 = NYC_census[NYC_census['YEAR'] == 10]\n",
    "NYC_census_2009 = NYC_census[NYC_census['YEAR'] == 11]\n",
    "NYC_census_2010 = NYC_census[NYC_census['YEAR'] == 13]\n",
    "NYC_census_4yr = NYC_census[(NYC_census['YEAR'] == 9) | (NYC_census['YEAR'] == 10) | (NYC_census['YEAR'] == 11) | (NYC_census['YEAR'] == 13)]"
   ]
  },
  {
   "cell_type": "code",
   "execution_count": 52,
   "metadata": {},
   "outputs": [],
   "source": [
    "NYPD_arrests_clean = NYPD_arrests_clean[NYPD_arrests_clean['ARREST_DATE'].notna()]"
   ]
  },
  {
   "cell_type": "code",
   "execution_count": 53,
   "metadata": {},
   "outputs": [
    {
     "name": "stdout",
     "output_type": "stream",
     "text": [
      "40574\n"
     ]
    }
   ],
   "source": [
    "year = '2015'\n",
    "race = 'WHITE'\n",
    "filterDF = NYPD_arrests_clean[(NYPD_arrests_clean['ARREST_DATE'].str.contains(year)) & (NYPD_arrests_clean['PERP_RACE'] == race)]\n",
    "num = len(filterDF)\n",
    "print(num)"
   ]
  },
  {
   "cell_type": "code",
   "execution_count": 54,
   "metadata": {},
   "outputs": [],
   "source": [
    "#Create dummy column for white and black. Minority would be when 'is_white' == 0\n",
    "NYPD_arrests_clean.loc[:, 'is_white'] = pd.get_dummies(NYPD_arrests_clean['PERP_RACE'])['WHITE']\n",
    "NYPD_arrests_clean.loc[:, 'is_black'] = pd.get_dummies(NYPD_arrests_clean['PERP_RACE'])['BLACK']"
   ]
  },
  {
   "cell_type": "code",
   "execution_count": 55,
   "metadata": {},
   "outputs": [],
   "source": [
    "# Remove null values from Law Codes\n",
    "NYPD_arrests_clean = NYPD_arrests_clean[NYPD_arrests_clean['LAW_CAT_CD'].notna()]"
   ]
  },
  {
   "cell_type": "code",
   "execution_count": 56,
   "metadata": {},
   "outputs": [],
   "source": [
    "# Assign values to LAW_CAT_CD indicators to create a ranking of crime severity\n",
    "LAW_CAT_CD_map = {'I': 1, 'V': 2, 'M': 3, 'F': 4}\n",
    "NYPD_arrests_clean['LAW_CAT_CD'] = NYPD_arrests_clean['LAW_CAT_CD'].map(LAW_CAT_CD_map)"
   ]
  },
  {
   "cell_type": "code",
   "execution_count": 57,
   "metadata": {},
   "outputs": [
    {
     "name": "stdout",
     "output_type": "stream",
     "text": [
      "Felonies\n",
      "Total Number of Felonies: 1327472\n",
      "Percentage of Felony Arrests: 26.48%\n",
      "White Felonies: 144335 / 10.87%\n",
      "Minority Felonies: 1183137 / 89.13%\n",
      "Black Felonies: 642367 / 48.39%\n",
      "\n",
      "Misdemeanors\n",
      "Total Number of Misdemeanors: 3301109\n",
      "Percentage of Misdemeanor Arrests: 65.85%\n",
      "White Misdemeanors: 423802 / 12.84%\n",
      "Minority Misdemeanors: 2877307 / 87.16%\n",
      "Black Misdemeanors: 1724412 / 52.24%\n",
      "\n",
      "Violations\n",
      "Total Number of Violations: 289559\n",
      "Percentage of Violation Arrests: 5.78%\n",
      "White Violations: 29860 / 10.31%\n",
      "Minority Violations: 259699 / 89.69%\n",
      "Black Violations: 135028 / 46.63%\n",
      "\n",
      "Traffic Infractions\n",
      "Total Number of Traffic Infractions: 25607\n",
      "Percentage of Traffic Infraction Arrests: 0.51%\n",
      "White Traffic Infractions: 3942 / 15.39%\n",
      "Minority Traffic Infractions: 21665 / 84.61%\n",
      "Black Traffic Infractions: 15411 / 60.18%\n"
     ]
    }
   ],
   "source": [
    "# Felony\n",
    "print(\"Felonies\")\n",
    "Ftotal = len(NYPD_arrests_clean[NYPD_arrests_clean['LAW_CAT_CD'] == 4])\n",
    "print(\"Total Number of Felonies: \" + str(Ftotal))\n",
    "print(\"Percentage of Felony Arrests: {:.2f}%\".format((Ftotal/NYPDtot_filtered)*100))\n",
    "\n",
    "whiteF = len(NYPD_arrests_clean[(NYPD_arrests_clean['is_white'] == 1) & (NYPD_arrests_clean['LAW_CAT_CD'] == 4)])\n",
    "print(\"White Felonies: \" + str(whiteF) + \" / {:.2f}%\".format((whiteF/Ftotal)*100))\n",
    "minF = len(NYPD_arrests_clean[(NYPD_arrests_clean['is_white'] == 0) & (NYPD_arrests_clean['LAW_CAT_CD'] == 4)])\n",
    "print(\"Minority Felonies: \" + str(minF) + \" / {:.2f}%\".format((minF/Ftotal)*100))\n",
    "blackF = len(NYPD_arrests_clean[(NYPD_arrests_clean['is_black'] == 0) & (NYPD_arrests_clean['LAW_CAT_CD'] == 4)])\n",
    "print(\"Black Felonies: \" + str(blackF) + \" / {:.2f}%\".format((blackF/Ftotal)*100))\n",
    "\n",
    "\n",
    "print(\"\")\n",
    "\n",
    "# Misdemeanor\n",
    "print(\"Misdemeanors\")\n",
    "Mtotal = len(NYPD_arrests_clean[NYPD_arrests_clean['LAW_CAT_CD'] == 3])\n",
    "print(\"Total Number of Misdemeanors: \" + str(Mtotal))\n",
    "print(\"Percentage of Misdemeanor Arrests: {:.2f}%\".format((Mtotal/NYPDtot_filtered)*100))\n",
    "\n",
    "whiteM = len(NYPD_arrests_clean[(NYPD_arrests_clean['is_white'] == 1) & (NYPD_arrests_clean['LAW_CAT_CD'] == 3)])\n",
    "print(\"White Misdemeanors: \" + str(whiteM) + \" / {:.2f}%\".format((whiteM/Mtotal)*100))\n",
    "minM = len(NYPD_arrests_clean[(NYPD_arrests_clean['is_white'] == 0) & (NYPD_arrests_clean['LAW_CAT_CD'] == 3)])\n",
    "print(\"Minority Misdemeanors: \" + str(minM) + \" / {:.2f}%\".format((minM/Mtotal)*100))\n",
    "blackM = len(NYPD_arrests_clean[(NYPD_arrests_clean['is_black'] == 0) & (NYPD_arrests_clean['LAW_CAT_CD'] == 3)])\n",
    "print(\"Black Misdemeanors: \" + str(blackM) + \" / {:.2f}%\".format((blackM/Mtotal)*100))\n",
    "\n",
    "print(\"\")\n",
    "\n",
    "# Violation\n",
    "print(\"Violations\")\n",
    "Vtotal = len(NYPD_arrests_clean[NYPD_arrests_clean['LAW_CAT_CD'] == 2])\n",
    "print(\"Total Number of Violations: \" + str(Vtotal))\n",
    "print(\"Percentage of Violation Arrests: {:.2f}%\".format((Vtotal/NYPDtot_filtered)*100))\n",
    "\n",
    "whiteV = len(NYPD_arrests_clean[(NYPD_arrests_clean['is_white'] == 1) & (NYPD_arrests_clean['LAW_CAT_CD'] == 2)])\n",
    "print(\"White Violations: \" + str(whiteV) + \" / {:.2f}%\".format((whiteV/Vtotal)*100))\n",
    "minV = len(NYPD_arrests_clean[(NYPD_arrests_clean['is_white'] == 0) & (NYPD_arrests_clean['LAW_CAT_CD'] == 2)])\n",
    "print(\"Minority Violations: \" + str(minV) + \" / {:.2f}%\".format((minV/Vtotal)*100))\n",
    "blackV = len(NYPD_arrests_clean[(NYPD_arrests_clean['is_black'] == 0) & (NYPD_arrests_clean['LAW_CAT_CD'] == 2)])\n",
    "print(\"Black Violations: \" + str(blackV) + \" / {:.2f}%\".format((blackV/Vtotal)*100))\n",
    "\n",
    "print(\"\")\n",
    "\n",
    "# Traffic Infraction\n",
    "print(\"Traffic Infractions\")\n",
    "Itotal = len(NYPD_arrests_clean[NYPD_arrests_clean['LAW_CAT_CD'] == 1])\n",
    "print(\"Total Number of Traffic Infractions: \" + str(Itotal))\n",
    "print(\"Percentage of Traffic Infraction Arrests: {:.2f}%\".format((Itotal/NYPDtot_filtered)*100))\n",
    "\n",
    "whiteI = len(NYPD_arrests_clean[(NYPD_arrests_clean['is_white'] == 1) & (NYPD_arrests_clean['LAW_CAT_CD'] == 1)])\n",
    "print(\"White Traffic Infractions: \" + str(whiteI) + \" / {:.2f}%\".format((whiteI/Itotal)*100))\n",
    "minI = len(NYPD_arrests_clean[(NYPD_arrests_clean['is_white'] == 0) & (NYPD_arrests_clean['LAW_CAT_CD'] == 1)])\n",
    "print(\"Minority Traffic Infractions: \" + str(minI) + \" / {:.2f}%\".format((minI/Itotal)*100))\n",
    "blackI = len(NYPD_arrests_clean[(NYPD_arrests_clean['is_black'] == 0) & (NYPD_arrests_clean['LAW_CAT_CD'] == 1)])\n",
    "print(\"Black Traffic Infractions: \" + str(blackI) + \" / {:.2f}%\".format((blackI/Itotal)*100))"
   ]
  },
  {
   "cell_type": "code",
   "execution_count": 58,
   "metadata": {
    "scrolled": true
   },
   "outputs": [
    {
     "name": "stdout",
     "output_type": "stream",
     "text": [
      "slope for 'LAW_CAT_CD' is -0.026\n",
      "intercept for 'LAW_CAT_CD' is 3.203\n"
     ]
    }
   ],
   "source": [
    "from sklearn.linear_model import LinearRegression\n",
    "from sklearn.linear_model import LogisticRegression\n",
    "from sklearn.model_selection import train_test_split\n",
    "\n",
    "## Set up properly-shaped arrays for x and y values for regression\n",
    "x = NYPD_arrests_clean[['is_white']]\n",
    "y = NYPD_arrests_clean['LAW_CAT_CD']\n",
    "\n",
    "## Perform the regression\n",
    "model = LinearRegression().fit(x, y)\n",
    "\n",
    "## Print regression coefficients\n",
    "print(\"slope for 'LAW_CAT_CD' is {:.3f}\".format(model.coef_[0]))\n",
    "print(\"intercept for 'LAW_CAT_CD' is {:.3f}\".format(model.intercept_))"
   ]
  },
  {
   "cell_type": "code",
   "execution_count": null,
   "metadata": {},
   "outputs": [],
   "source": []
  },
  {
   "cell_type": "code",
   "execution_count": 59,
   "metadata": {},
   "outputs": [
    {
     "data": {
      "text/plain": [
       "Text(0, 0.5, 'Crime Severity')"
      ]
     },
     "execution_count": 59,
     "metadata": {},
     "output_type": "execute_result"
    },
    {
     "data": {
      "image/png": "[encoded data removed]",
      "text/plain": [
       "<Figure size 432x288 with 1 Axes>"
      ]
     },
     "metadata": {
      "needs_background": "light"
     },
     "output_type": "display_data"
    }
   ],
   "source": [
    "x = NYPD_arrests_clean['is_white']\n",
    "y = NYPD_arrests_clean['LAW_CAT_CD']\n",
    "plt.scatter(x, y, alpha=0.3)\n",
    "plt.xlabel('Minority /  White')\n",
    "plt.ylabel('Crime Severity')"
   ]
  },
  {
   "cell_type": "code",
   "execution_count": 60,
   "metadata": {},
   "outputs": [],
   "source": [
    "# Calculate number of arrests for each year, by race\n",
    "races = NYPD_arrests_clean['PERP_RACE'].unique()\n",
    "years = NYPD_arrests_clean['Year'].unique()\n",
    "data = []\n",
    "for year in years:\n",
    "    for race in races:\n",
    "        filterDF = NYPD_arrests_clean[(NYPD_arrests_clean['ARREST_DATE'].str.contains(str(year))) & (NYPD_arrests_clean['PERP_RACE'] == race)]\n",
    "        num = len(filterDF)\n",
    "        row = []\n",
    "        row.append(year)\n",
    "        row.append(race)\n",
    "        row.append(num)\n",
    "        data.append(row)"
   ]
  },
  {
   "cell_type": "code",
   "execution_count": 61,
   "metadata": {},
   "outputs": [
    {
     "data": {
      "text/html": [
       "<div>\n",
       "<style scoped>\n",
       "    .dataframe tbody tr th:only-of-type {\n",
       "        vertical-align: middle;\n",
       "    }\n",
       "\n",
       "    .dataframe tbody tr th {\n",
       "        vertical-align: top;\n",
       "    }\n",
       "\n",
       "    .dataframe thead th {\n",
       "        text-align: right;\n",
       "    }\n",
       "</style>\n",
       "<table border=\"1\" class=\"dataframe\">\n",
       "  <thead>\n",
       "    <tr style=\"text-align: right;\">\n",
       "      <th></th>\n",
       "      <th>Year</th>\n",
       "      <th>Race</th>\n",
       "      <th>Number_of_Arrests</th>\n",
       "    </tr>\n",
       "  </thead>\n",
       "  <tbody>\n",
       "    <tr>\n",
       "      <th>0</th>\n",
       "      <td>2015</td>\n",
       "      <td>WHITE HISPANIC</td>\n",
       "      <td>86417</td>\n",
       "    </tr>\n",
       "    <tr>\n",
       "      <th>1</th>\n",
       "      <td>2015</td>\n",
       "      <td>BLACK</td>\n",
       "      <td>163409</td>\n",
       "    </tr>\n",
       "    <tr>\n",
       "      <th>2</th>\n",
       "      <td>2015</td>\n",
       "      <td>BLACK HISPANIC</td>\n",
       "      <td>28315</td>\n",
       "    </tr>\n",
       "    <tr>\n",
       "      <th>3</th>\n",
       "      <td>2015</td>\n",
       "      <td>ASIAN / PACIFIC ISLANDER</td>\n",
       "      <td>15332</td>\n",
       "    </tr>\n",
       "    <tr>\n",
       "      <th>4</th>\n",
       "      <td>2015</td>\n",
       "      <td>WHITE</td>\n",
       "      <td>40391</td>\n",
       "    </tr>\n",
       "  </tbody>\n",
       "</table>\n",
       "</div>"
      ],
      "text/plain": [
       "   Year                      Race  Number_of_Arrests\n",
       "0  2015            WHITE HISPANIC              86417\n",
       "1  2015                     BLACK             163409\n",
       "2  2015            BLACK HISPANIC              28315\n",
       "3  2015  ASIAN / PACIFIC ISLANDER              15332\n",
       "4  2015                     WHITE              40391"
      ]
     },
     "execution_count": 61,
     "metadata": {},
     "output_type": "execute_result"
    }
   ],
   "source": [
    "# Add the values to a new dataframe\n",
    "NYPD_arrests_byYearRace = pd.DataFrame(data, columns = ['Year', 'Race', 'Number_of_Arrests'])\n",
    "NYPD_arrests_byYearRace.head()"
   ]
  },
  {
   "cell_type": "code",
   "execution_count": 62,
   "metadata": {},
   "outputs": [
    {
     "data": {
      "text/plain": [
       "<AxesSubplot:xlabel='Year', ylabel='Number_of_Arrests'>"
      ]
     },
     "execution_count": 62,
     "metadata": {},
     "output_type": "execute_result"
    },
    {
     "data": {
      "image/png": "[encoded data removed]",
      "text/plain": [
       "<Figure size 1080x360 with 1 Axes>"
      ]
     },
     "metadata": {
      "needs_background": "light"
     },
     "output_type": "display_data"
    }
   ],
   "source": [
    "NYPD_arrests_byYearRace.plot.scatter('Year', 'Number_of_Arrests', figsize=(15,5))"
   ]
  },
  {
   "cell_type": "code",
   "execution_count": 63,
   "metadata": {},
   "outputs": [
    {
     "name": "stdout",
     "output_type": "stream",
     "text": [
      "slope is -2186.381\n",
      "intercept is 4458945.060\n"
     ]
    }
   ],
   "source": [
    "## Set up properly-shaped arrays for x and y values for regression\n",
    "x = NYPD_arrests_byYearRace[['Year']]\n",
    "y = NYPD_arrests_byYearRace['Number_of_Arrests']\n",
    "\n",
    "## Perform the regression\n",
    "model_byYR = LinearRegression().fit(x, y)\n",
    "\n",
    "## Print regression coefficients\n",
    "print(\"slope is {:.3f}\".format(model_byYR.coef_[0]))\n",
    "print(\"intercept is {:.3f}\".format(model_byYR.intercept_))"
   ]
  },
  {
   "cell_type": "code",
   "execution_count": 64,
   "metadata": {},
   "outputs": [
    {
     "data": {
      "text/plain": [
       "Text(40.41053819444444, 0.5, 'Number of Arrests')"
      ]
     },
     "execution_count": 64,
     "metadata": {},
     "output_type": "execute_result"
    },
    {
     "data": {
      "image/png": "[encoded data removed]",
      "text/plain": [
       "<Figure size 575.875x360 with 1 Axes>"
      ]
     },
     "metadata": {
      "needs_background": "light"
     },
     "output_type": "display_data"
    }
   ],
   "source": [
    "sns.relplot(x='Year', y='Number_of_Arrests', hue='Race', data=NYPD_arrests_byYearRace, kind='scatter');\n",
    "plt.xlabel('Year')\n",
    "plt.ylabel('Number of Arrests')"
   ]
  },
  {
   "cell_type": "code",
   "execution_count": 65,
   "metadata": {},
   "outputs": [
    {
     "data": {
      "text/plain": [
       "<seaborn.axisgrid.FacetGrid at 0x17f05e1e3d0>"
      ]
     },
     "execution_count": 65,
     "metadata": {},
     "output_type": "execute_result"
    },
    {
     "data": {
      "image/png": "[encoded data removed]",
      "text/plain": [
       "<Figure size 719.875x504 with 1 Axes>"
      ]
     },
     "metadata": {
      "needs_background": "light"
     },
     "output_type": "display_data"
    }
   ],
   "source": [
    "sns.lmplot(x='Year', y='Number_of_Arrests', hue='Race', height=7, data=NYPD_arrests_byYearRace)"
   ]
  },
  {
   "cell_type": "code",
   "execution_count": 66,
   "metadata": {},
   "outputs": [],
   "source": [
    "NYPD_arrests_byYearRace_BLACK = NYPD_arrests_byYearRace[NYPD_arrests_byYearRace['Race'] == 'BLACK']"
   ]
  },
  {
   "cell_type": "code",
   "execution_count": 67,
   "metadata": {},
   "outputs": [
    {
     "name": "stdout",
     "output_type": "stream",
     "text": [
      "slope is -0.026\n",
      "intercept is 3.203\n"
     ]
    }
   ],
   "source": [
    "## Set up properly-shaped arrays for x and y values for regression\n",
    "x = NYPD_arrests_byYearRace_BLACK[['Year']]\n",
    "y = NYPD_arrests_byYearRace_BLACK['Number_of_Arrests']\n",
    "\n",
    "## Perform the regression\n",
    "model_byYR_Black = LinearRegression().fit(x, y)\n",
    "\n",
    "## Print regression coefficients\n",
    "print(\"slope is {:.3f}\".format(model.coef_[0]))\n",
    "print(\"intercept is {:.3f}\".format(model.intercept_))\n",
    "y_byYR_BLACK_pred = model.predict(x)  # make predictions"
   ]
  },
  {
   "cell_type": "code",
   "execution_count": 68,
   "metadata": {},
   "outputs": [
    {
     "data": {
      "text/plain": [
       "Text(0, 0.5, 'Number of Arrests')"
      ]
     },
     "execution_count": 68,
     "metadata": {},
     "output_type": "execute_result"
    },
    {
     "data": {
      "image/png": "[encoded data removed]",
      "text/plain": [
       "<Figure size 1440x360 with 2 Axes>"
      ]
     },
     "metadata": {
      "needs_background": "light"
     },
     "output_type": "display_data"
    }
   ],
   "source": [
    "fig = plt.figure(figsize=(20,5))\n",
    "ax1 = fig.add_subplot(121)\n",
    "ax2 = fig.add_subplot(122)\n",
    "x = NYPD_arrests_byYearRace_BLACK['Year']\n",
    "y = NYPD_arrests_byYearRace_BLACK['Number_of_Arrests']\n",
    "ax1.scatter(x, y)\n",
    "ax2.scatter(x, y_byYR_BLACK_pred)\n",
    "plt.xlabel('Year')\n",
    "plt.ylabel('Number of Arrests')"
   ]
  },
  {
   "cell_type": "code",
   "execution_count": 69,
   "metadata": {},
   "outputs": [
    {
     "data": {
      "text/plain": [
       "<seaborn.axisgrid.FacetGrid at 0x17f05f488e0>"
      ]
     },
     "execution_count": 69,
     "metadata": {},
     "output_type": "execute_result"
    },
    {
     "data": {
      "image/png": "[encoded data removed]",
      "text/plain": [
       "<Figure size 572.75x504 with 1 Axes>"
      ]
     },
     "metadata": {
      "needs_background": "light"
     },
     "output_type": "display_data"
    }
   ],
   "source": [
    "sns.lmplot(x='Year', y='Number_of_Arrests', hue='Race', height=7, data=NYPD_arrests_byYearRace_BLACK)"
   ]
  },
  {
   "cell_type": "code",
   "execution_count": 70,
   "metadata": {},
   "outputs": [
    {
     "name": "stdout",
     "output_type": "stream",
     "text": [
      "R-squared: 0.6988857892190199\n"
     ]
    }
   ],
   "source": [
    "# Correlation between Year and Number of Arrests when race is Black\n",
    "# This shows how closely the number of arrests follows the linear increase of time\n",
    "print(\"R-squared: \" + str(model_byYR_Black.score(NYPD_arrests_byYearRace_BLACK[['Year']], NYPD_arrests_byYearRace_BLACK['Number_of_Arrests'])))"
   ]
  },
  {
   "cell_type": "code",
   "execution_count": 71,
   "metadata": {},
   "outputs": [
    {
     "name": "stdout",
     "output_type": "stream",
     "text": [
      "[334637, 416790, 243368, 382380, 386886, 391036, 407467, 282140, 310212, 416221, 396771, 398033, 365964, 211842]\n"
     ]
    }
   ],
   "source": [
    "# Filter by just years\n",
    "years = NYPD_arrests_clean['Year'].unique()\n",
    "dataYr = []\n",
    "for year in years:\n",
    "        filterYr = NYPD_arrests_clean[NYPD_arrests_clean['ARREST_DATE'].str.contains(str(year))]\n",
    "        numYr = len(filterYr)                                                                                                                                             \n",
    "        dataYr.append(numYr)\n",
    "print(dataYr)"
   ]
  },
  {
   "cell_type": "code",
   "execution_count": 72,
   "metadata": {},
   "outputs": [
    {
     "name": "stdout",
     "output_type": "stream",
     "text": [
      "[310212, 416221, 396771, 398033, 365964, 211842]\n",
      "2099043\n",
      "2093277\n"
     ]
    }
   ],
   "source": [
    "# Checking how difference in number of arrests between 2014-2019 and 2008-2013 \n",
    "# Doing this to confirm that number of overall arrests is not decreasing\n",
    "recent6yrs = dataYr[len(dataYr)-6:len(dataYr)]\n",
    "prev6yrs = dataYr[len(dataYr)-12:len(dataYr)-6]\n",
    "print(recent6yrs)\n",
    "print(sum(recent6yrs))\n",
    "print(sum(prev6yrs))"
   ]
  },
  {
   "cell_type": "code",
   "execution_count": 73,
   "metadata": {},
   "outputs": [
    {
     "name": "stdout",
     "output_type": "stream",
     "text": [
      "4943747\n",
      "84\n",
      "58854.130952380954\n",
      "58854.130952380954\n"
     ]
    }
   ],
   "source": [
    "# Average number of arrests per year, per race\n",
    "sumNum = NYPD_arrests_byYearRace['Number_of_Arrests'].sum()\n",
    "print(sumNum)\n",
    "lenNum = len(NYPD_arrests_byYearRace)\n",
    "print(lenNum)\n",
    "meanNum2 = sumNum / lenNum\n",
    "print(meanNum2)\n",
    "\n",
    "meanNum = NYPD_arrests_byYearRace['Number_of_Arrests'].mean()\n",
    "print(meanNum)"
   ]
  },
  {
   "cell_type": "code",
   "execution_count": 74,
   "metadata": {},
   "outputs": [
    {
     "name": "stderr",
     "output_type": "stream",
     "text": [
      "<ipython-input-74-446247fa0e86>:2: SettingWithCopyWarning: \n",
      "A value is trying to be set on a copy of a slice from a DataFrame.\n",
      "Try using .loc[row_indexer,col_indexer] = value instead\n",
      "\n",
      "See the caveats in the documentation: https://pandas.pydata.org/pandas-docs/stable/user_guide/indexing.html#returning-a-view-versus-a-copy\n",
      "  NYPD_arrests_byYearRace_BLACK['meanNum'] = meanNum\n"
     ]
    }
   ],
   "source": [
    "NYPD_arrests_byYearRace['meanNum'] = meanNum\n",
    "NYPD_arrests_byYearRace_BLACK['meanNum'] = meanNum"
   ]
  },
  {
   "cell_type": "code",
   "execution_count": 75,
   "metadata": {},
   "outputs": [
    {
     "data": {
      "text/html": [
       "<div>\n",
       "<style scoped>\n",
       "    .dataframe tbody tr th:only-of-type {\n",
       "        vertical-align: middle;\n",
       "    }\n",
       "\n",
       "    .dataframe tbody tr th {\n",
       "        vertical-align: top;\n",
       "    }\n",
       "\n",
       "    .dataframe thead th {\n",
       "        text-align: right;\n",
       "    }\n",
       "</style>\n",
       "<table border=\"1\" class=\"dataframe\">\n",
       "  <thead>\n",
       "    <tr style=\"text-align: right;\">\n",
       "      <th></th>\n",
       "      <th>Year</th>\n",
       "      <th>Race</th>\n",
       "      <th>Number_of_Arrests</th>\n",
       "      <th>meanNum</th>\n",
       "    </tr>\n",
       "  </thead>\n",
       "  <tbody>\n",
       "    <tr>\n",
       "      <th>1</th>\n",
       "      <td>2015</td>\n",
       "      <td>BLACK</td>\n",
       "      <td>163409</td>\n",
       "      <td>58854.130952</td>\n",
       "    </tr>\n",
       "    <tr>\n",
       "      <th>7</th>\n",
       "      <td>2010</td>\n",
       "      <td>BLACK</td>\n",
       "      <td>208360</td>\n",
       "      <td>58854.130952</td>\n",
       "    </tr>\n",
       "    <tr>\n",
       "      <th>13</th>\n",
       "      <td>2018</td>\n",
       "      <td>BLACK</td>\n",
       "      <td>116652</td>\n",
       "      <td>58854.130952</td>\n",
       "    </tr>\n",
       "    <tr>\n",
       "      <th>19</th>\n",
       "      <td>2014</td>\n",
       "      <td>BLACK</td>\n",
       "      <td>185666</td>\n",
       "      <td>58854.130952</td>\n",
       "    </tr>\n",
       "    <tr>\n",
       "      <th>25</th>\n",
       "      <td>2013</td>\n",
       "      <td>BLACK</td>\n",
       "      <td>188106</td>\n",
       "      <td>58854.130952</td>\n",
       "    </tr>\n",
       "  </tbody>\n",
       "</table>\n",
       "</div>"
      ],
      "text/plain": [
       "    Year   Race  Number_of_Arrests       meanNum\n",
       "1   2015  BLACK             163409  58854.130952\n",
       "7   2010  BLACK             208360  58854.130952\n",
       "13  2018  BLACK             116652  58854.130952\n",
       "19  2014  BLACK             185666  58854.130952\n",
       "25  2013  BLACK             188106  58854.130952"
      ]
     },
     "execution_count": 75,
     "metadata": {},
     "output_type": "execute_result"
    }
   ],
   "source": [
    "NYPD_arrests_byYearRace_BLACK.head()"
   ]
  },
  {
   "cell_type": "code",
   "execution_count": 76,
   "metadata": {},
   "outputs": [],
   "source": [
    "# Filter for serious crimes\n",
    "races = NYPD_arrests_clean['PERP_RACE'].unique()\n",
    "years = NYPD_arrests_clean['Year'].unique()\n",
    "dataC = []\n",
    "for year in years:\n",
    "    for race in races:\n",
    "        filterCrimeL = NYPD_arrests_clean[(NYPD_arrests_clean['ARREST_DATE'].str.contains(str(year))) & (NYPD_arrests_clean['PERP_RACE'] == race) & (NYPD_arrests_clean['LAW_CAT_CD'] > 2)]\n",
    "        numSC = len(filterCrimeL)                                                                                                                                             \n",
    "        dataC.append(numSC)"
   ]
  },
  {
   "cell_type": "code",
   "execution_count": 77,
   "metadata": {},
   "outputs": [],
   "source": [
    "# Create a column that indicates the number of arrests per year, by race that are misdemeanors or felonies\n",
    "NYPD_arrests_byYearRace['Serious_Crime_Number'] = dataC"
   ]
  },
  {
   "cell_type": "code",
   "execution_count": 78,
   "metadata": {},
   "outputs": [
    {
     "data": {
      "text/html": [
       "<div>\n",
       "<style scoped>\n",
       "    .dataframe tbody tr th:only-of-type {\n",
       "        vertical-align: middle;\n",
       "    }\n",
       "\n",
       "    .dataframe tbody tr th {\n",
       "        vertical-align: top;\n",
       "    }\n",
       "\n",
       "    .dataframe thead th {\n",
       "        text-align: right;\n",
       "    }\n",
       "</style>\n",
       "<table border=\"1\" class=\"dataframe\">\n",
       "  <thead>\n",
       "    <tr style=\"text-align: right;\">\n",
       "      <th></th>\n",
       "      <th>Year</th>\n",
       "      <th>Race</th>\n",
       "      <th>Number_of_Arrests</th>\n",
       "      <th>meanNum</th>\n",
       "      <th>Serious_Crime_Number</th>\n",
       "    </tr>\n",
       "  </thead>\n",
       "  <tbody>\n",
       "    <tr>\n",
       "      <th>0</th>\n",
       "      <td>2015</td>\n",
       "      <td>WHITE HISPANIC</td>\n",
       "      <td>86417</td>\n",
       "      <td>58854.130952</td>\n",
       "      <td>79383</td>\n",
       "    </tr>\n",
       "    <tr>\n",
       "      <th>1</th>\n",
       "      <td>2015</td>\n",
       "      <td>BLACK</td>\n",
       "      <td>163409</td>\n",
       "      <td>58854.130952</td>\n",
       "      <td>149166</td>\n",
       "    </tr>\n",
       "    <tr>\n",
       "      <th>2</th>\n",
       "      <td>2015</td>\n",
       "      <td>BLACK HISPANIC</td>\n",
       "      <td>28315</td>\n",
       "      <td>58854.130952</td>\n",
       "      <td>26582</td>\n",
       "    </tr>\n",
       "    <tr>\n",
       "      <th>3</th>\n",
       "      <td>2015</td>\n",
       "      <td>ASIAN / PACIFIC ISLANDER</td>\n",
       "      <td>15332</td>\n",
       "      <td>58854.130952</td>\n",
       "      <td>14683</td>\n",
       "    </tr>\n",
       "    <tr>\n",
       "      <th>4</th>\n",
       "      <td>2015</td>\n",
       "      <td>WHITE</td>\n",
       "      <td>40391</td>\n",
       "      <td>58854.130952</td>\n",
       "      <td>37949</td>\n",
       "    </tr>\n",
       "  </tbody>\n",
       "</table>\n",
       "</div>"
      ],
      "text/plain": [
       "   Year                      Race  Number_of_Arrests       meanNum  \\\n",
       "0  2015            WHITE HISPANIC              86417  58854.130952   \n",
       "1  2015                     BLACK             163409  58854.130952   \n",
       "2  2015            BLACK HISPANIC              28315  58854.130952   \n",
       "3  2015  ASIAN / PACIFIC ISLANDER              15332  58854.130952   \n",
       "4  2015                     WHITE              40391  58854.130952   \n",
       "\n",
       "   Serious_Crime_Number  \n",
       "0                 79383  \n",
       "1                149166  \n",
       "2                 26582  \n",
       "3                 14683  \n",
       "4                 37949  "
      ]
     },
     "execution_count": 78,
     "metadata": {},
     "output_type": "execute_result"
    }
   ],
   "source": [
    "NYPD_arrests_byYearRace.head()"
   ]
  },
  {
   "cell_type": "code",
   "execution_count": 79,
   "metadata": {
    "scrolled": true
   },
   "outputs": [],
   "source": [
    "# Filter for younger age groups\n",
    "races = NYPD_arrests_clean['PERP_RACE'].unique()\n",
    "years = NYPD_arrests_clean['Year'].unique()\n",
    "dataYA = []\n",
    "for year in years:\n",
    "    for race in races:\n",
    "        filterYAgeGrp = NYPD_arrests_clean[(NYPD_arrests_clean['ARREST_DATE'].str.contains(str(year))) & (NYPD_arrests_clean['PERP_RACE'] == race) & ((NYPD_arrests_clean['AGE_GROUP'] == '<18') | (NYPD_arrests_clean['AGE_GROUP'] == '18-24'))]\n",
    "        numYAG = len(filterYAgeGrp)                                                                                                                                             \n",
    "        dataYA.append(numYAG)"
   ]
  },
  {
   "cell_type": "code",
   "execution_count": 80,
   "metadata": {},
   "outputs": [],
   "source": [
    "# Create a column that indicates the number of arrests per year, by race where people are younger than 24\n",
    "NYPD_arrests_byYearRace['Young_Age'] = dataYA"
   ]
  },
  {
   "cell_type": "code",
   "execution_count": 81,
   "metadata": {},
   "outputs": [
    {
     "data": {
      "text/html": [
       "<div>\n",
       "<style scoped>\n",
       "    .dataframe tbody tr th:only-of-type {\n",
       "        vertical-align: middle;\n",
       "    }\n",
       "\n",
       "    .dataframe tbody tr th {\n",
       "        vertical-align: top;\n",
       "    }\n",
       "\n",
       "    .dataframe thead th {\n",
       "        text-align: right;\n",
       "    }\n",
       "</style>\n",
       "<table border=\"1\" class=\"dataframe\">\n",
       "  <thead>\n",
       "    <tr style=\"text-align: right;\">\n",
       "      <th></th>\n",
       "      <th>Year</th>\n",
       "      <th>Race</th>\n",
       "      <th>Number_of_Arrests</th>\n",
       "      <th>meanNum</th>\n",
       "      <th>Serious_Crime_Number</th>\n",
       "      <th>Young_Age</th>\n",
       "    </tr>\n",
       "  </thead>\n",
       "  <tbody>\n",
       "    <tr>\n",
       "      <th>0</th>\n",
       "      <td>2015</td>\n",
       "      <td>WHITE HISPANIC</td>\n",
       "      <td>86417</td>\n",
       "      <td>58854.130952</td>\n",
       "      <td>79383</td>\n",
       "      <td>28661</td>\n",
       "    </tr>\n",
       "    <tr>\n",
       "      <th>1</th>\n",
       "      <td>2015</td>\n",
       "      <td>BLACK</td>\n",
       "      <td>163409</td>\n",
       "      <td>58854.130952</td>\n",
       "      <td>149166</td>\n",
       "      <td>55792</td>\n",
       "    </tr>\n",
       "    <tr>\n",
       "      <th>2</th>\n",
       "      <td>2015</td>\n",
       "      <td>BLACK HISPANIC</td>\n",
       "      <td>28315</td>\n",
       "      <td>58854.130952</td>\n",
       "      <td>26582</td>\n",
       "      <td>11138</td>\n",
       "    </tr>\n",
       "    <tr>\n",
       "      <th>3</th>\n",
       "      <td>2015</td>\n",
       "      <td>ASIAN / PACIFIC ISLANDER</td>\n",
       "      <td>15332</td>\n",
       "      <td>58854.130952</td>\n",
       "      <td>14683</td>\n",
       "      <td>4546</td>\n",
       "    </tr>\n",
       "    <tr>\n",
       "      <th>4</th>\n",
       "      <td>2015</td>\n",
       "      <td>WHITE</td>\n",
       "      <td>40391</td>\n",
       "      <td>58854.130952</td>\n",
       "      <td>37949</td>\n",
       "      <td>9319</td>\n",
       "    </tr>\n",
       "  </tbody>\n",
       "</table>\n",
       "</div>"
      ],
      "text/plain": [
       "   Year                      Race  Number_of_Arrests       meanNum  \\\n",
       "0  2015            WHITE HISPANIC              86417  58854.130952   \n",
       "1  2015                     BLACK             163409  58854.130952   \n",
       "2  2015            BLACK HISPANIC              28315  58854.130952   \n",
       "3  2015  ASIAN / PACIFIC ISLANDER              15332  58854.130952   \n",
       "4  2015                     WHITE              40391  58854.130952   \n",
       "\n",
       "   Serious_Crime_Number  Young_Age  \n",
       "0                 79383      28661  \n",
       "1                149166      55792  \n",
       "2                 26582      11138  \n",
       "3                 14683       4546  \n",
       "4                 37949       9319  "
      ]
     },
     "execution_count": 81,
     "metadata": {},
     "output_type": "execute_result"
    }
   ],
   "source": [
    "NYPD_arrests_byYearRace.head()"
   ]
  },
  {
   "cell_type": "code",
   "execution_count": 82,
   "metadata": {},
   "outputs": [],
   "source": [
    "# Filter for older age groups\n",
    "races = NYPD_arrests_clean['PERP_RACE'].unique()\n",
    "years = NYPD_arrests_clean['Year'].unique()\n",
    "dataOA = []\n",
    "for year in years:\n",
    "    for race in races:\n",
    "        filterOAgeGrp = NYPD_arrests_clean[(NYPD_arrests_clean['ARREST_DATE'].str.contains(str(year))) & (NYPD_arrests_clean['PERP_RACE'] == race) & ((NYPD_arrests_clean['AGE_GROUP'] == '25-44') | (NYPD_arrests_clean['AGE_GROUP'] == '45-64') | (NYPD_arrests_clean['AGE_GROUP'] == '65+'))]\n",
    "        numOAG = len(filterOAgeGrp)                                                                                                                                             \n",
    "        dataOA.append(numOAG)"
   ]
  },
  {
   "cell_type": "code",
   "execution_count": 83,
   "metadata": {},
   "outputs": [],
   "source": [
    "# Create a column that indicates the number of arrests per year, by race where people are older than 24\n",
    "NYPD_arrests_byYearRace['Old_Age'] = dataOA"
   ]
  },
  {
   "cell_type": "code",
   "execution_count": 84,
   "metadata": {},
   "outputs": [
    {
     "data": {
      "text/html": [
       "<div>\n",
       "<style scoped>\n",
       "    .dataframe tbody tr th:only-of-type {\n",
       "        vertical-align: middle;\n",
       "    }\n",
       "\n",
       "    .dataframe tbody tr th {\n",
       "        vertical-align: top;\n",
       "    }\n",
       "\n",
       "    .dataframe thead th {\n",
       "        text-align: right;\n",
       "    }\n",
       "</style>\n",
       "<table border=\"1\" class=\"dataframe\">\n",
       "  <thead>\n",
       "    <tr style=\"text-align: right;\">\n",
       "      <th></th>\n",
       "      <th>Year</th>\n",
       "      <th>Race</th>\n",
       "      <th>Number_of_Arrests</th>\n",
       "      <th>meanNum</th>\n",
       "      <th>Serious_Crime_Number</th>\n",
       "      <th>Young_Age</th>\n",
       "      <th>Old_Age</th>\n",
       "    </tr>\n",
       "  </thead>\n",
       "  <tbody>\n",
       "    <tr>\n",
       "      <th>0</th>\n",
       "      <td>2015</td>\n",
       "      <td>WHITE HISPANIC</td>\n",
       "      <td>86417</td>\n",
       "      <td>58854.130952</td>\n",
       "      <td>79383</td>\n",
       "      <td>28661</td>\n",
       "      <td>57756</td>\n",
       "    </tr>\n",
       "    <tr>\n",
       "      <th>1</th>\n",
       "      <td>2015</td>\n",
       "      <td>BLACK</td>\n",
       "      <td>163409</td>\n",
       "      <td>58854.130952</td>\n",
       "      <td>149166</td>\n",
       "      <td>55792</td>\n",
       "      <td>107617</td>\n",
       "    </tr>\n",
       "    <tr>\n",
       "      <th>2</th>\n",
       "      <td>2015</td>\n",
       "      <td>BLACK HISPANIC</td>\n",
       "      <td>28315</td>\n",
       "      <td>58854.130952</td>\n",
       "      <td>26582</td>\n",
       "      <td>11138</td>\n",
       "      <td>17177</td>\n",
       "    </tr>\n",
       "    <tr>\n",
       "      <th>3</th>\n",
       "      <td>2015</td>\n",
       "      <td>ASIAN / PACIFIC ISLANDER</td>\n",
       "      <td>15332</td>\n",
       "      <td>58854.130952</td>\n",
       "      <td>14683</td>\n",
       "      <td>4546</td>\n",
       "      <td>10786</td>\n",
       "    </tr>\n",
       "    <tr>\n",
       "      <th>4</th>\n",
       "      <td>2015</td>\n",
       "      <td>WHITE</td>\n",
       "      <td>40391</td>\n",
       "      <td>58854.130952</td>\n",
       "      <td>37949</td>\n",
       "      <td>9319</td>\n",
       "      <td>31072</td>\n",
       "    </tr>\n",
       "  </tbody>\n",
       "</table>\n",
       "</div>"
      ],
      "text/plain": [
       "   Year                      Race  Number_of_Arrests       meanNum  \\\n",
       "0  2015            WHITE HISPANIC              86417  58854.130952   \n",
       "1  2015                     BLACK             163409  58854.130952   \n",
       "2  2015            BLACK HISPANIC              28315  58854.130952   \n",
       "3  2015  ASIAN / PACIFIC ISLANDER              15332  58854.130952   \n",
       "4  2015                     WHITE              40391  58854.130952   \n",
       "\n",
       "   Serious_Crime_Number  Young_Age  Old_Age  \n",
       "0                 79383      28661    57756  \n",
       "1                149166      55792   107617  \n",
       "2                 26582      11138    17177  \n",
       "3                 14683       4546    10786  \n",
       "4                 37949       9319    31072  "
      ]
     },
     "execution_count": 84,
     "metadata": {},
     "output_type": "execute_result"
    }
   ],
   "source": [
    "NYPD_arrests_byYearRace.head()"
   ]
  },
  {
   "cell_type": "code",
   "execution_count": 85,
   "metadata": {},
   "outputs": [
    {
     "data": {
      "text/plain": [
       "<AxesSubplot:xlabel='Serious_Crime_Number', ylabel='Number_of_Arrests'>"
      ]
     },
     "execution_count": 85,
     "metadata": {},
     "output_type": "execute_result"
    },
    {
     "data": {
      "image/png": "[encoded data removed]",
      "text/plain": [
       "<Figure size 1080x360 with 1 Axes>"
      ]
     },
     "metadata": {
      "needs_background": "light"
     },
     "output_type": "display_data"
    }
   ],
   "source": [
    "NYPD_arrests_byYearRace.plot.scatter('Serious_Crime_Number', 'Number_of_Arrests', figsize=(15,5))"
   ]
  },
  {
   "cell_type": "code",
   "execution_count": 86,
   "metadata": {},
   "outputs": [
    {
     "name": "stdout",
     "output_type": "stream",
     "text": [
      "slope is 1.081\n",
      "intercept is -732.226\n",
      "R-squared: 0.9991038007089764\n"
     ]
    }
   ],
   "source": [
    "# Perform the regression\n",
    "model_byYR_Crime = LinearRegression().fit(NYPD_arrests_byYearRace[['Serious_Crime_Number']], NYPD_arrests_byYearRace['Number_of_Arrests'])\n",
    "\n",
    "# Print regression coefficients\n",
    "print(\"slope is {:.3f}\".format(model_byYR_Crime.coef_[0]))\n",
    "print(\"intercept is {:.3f}\".format(model_byYR_Crime.intercept_))\n",
    "print(\"R-squared: \" + str(model_byYR_Crime.score(NYPD_arrests_byYearRace[['Serious_Crime_Number']], NYPD_arrests_byYearRace['Number_of_Arrests'])))\n",
    "y_byYR_Crime_pred = model_byYR_Crime.predict(NYPD_arrests_byYearRace[['Serious_Crime_Number']])  # make predictions"
   ]
  },
  {
   "cell_type": "code",
   "execution_count": 87,
   "metadata": {},
   "outputs": [
    {
     "name": "stdout",
     "output_type": "stream",
     "text": [
      "slope is 2.673\n",
      "intercept is 4469.436\n",
      "R-squared: 0.9833363510105009\n"
     ]
    }
   ],
   "source": [
    "# Perform the regression\n",
    "model_byYR_YA = LinearRegression().fit(NYPD_arrests_byYearRace[['Young_Age']], NYPD_arrests_byYearRace['Number_of_Arrests'])\n",
    "\n",
    "# Print regression coefficients\n",
    "print(\"slope is {:.3f}\".format(model_byYR_YA.coef_[0]))\n",
    "print(\"intercept is {:.3f}\".format(model_byYR_YA.intercept_))\n",
    "print(\"R-squared: \" + str(model_byYR_YA.score(NYPD_arrests_byYearRace[['Young_Age']], NYPD_arrests_byYearRace['Number_of_Arrests'])))\n",
    "y_byYR_YA_pred = model_byYR_YA.predict(NYPD_arrests_byYearRace[['Young_Age']])  # make predictions"
   ]
  },
  {
   "cell_type": "code",
   "execution_count": 88,
   "metadata": {},
   "outputs": [
    {
     "name": "stdout",
     "output_type": "stream",
     "text": [
      "slope is 1.573\n",
      "intercept is -1717.000\n",
      "R-squared: 0.9942940398803016\n"
     ]
    }
   ],
   "source": [
    "## Set up properly-shaped arrays for x and y values for regression\n",
    "x = NYPD_arrests_byYearRace[['Old_Age']]\n",
    "y = NYPD_arrests_byYearRace['Number_of_Arrests']\n",
    "\n",
    "## Perform the regression\n",
    "model_byYR_OA = LinearRegression().fit(x, y)\n",
    "\n",
    "## Print regression coefficients\n",
    "print(\"slope is {:.3f}\".format(model_byYR_OA.coef_[0]))\n",
    "print(\"intercept is {:.3f}\".format(model_byYR_OA.intercept_))\n",
    "print(\"R-squared: \" + str(model_byYR_OA.score(NYPD_arrests_byYearRace[['Old_Age']], NYPD_arrests_byYearRace['Number_of_Arrests'])))\n",
    "y_byYR_OA_pred = model_byYR_OA.predict(NYPD_arrests_byYearRace[['Old_Age']])  # make predictions"
   ]
  },
  {
   "cell_type": "code",
   "execution_count": 89,
   "metadata": {},
   "outputs": [
    {
     "data": {
      "text/plain": [
       "<seaborn.axisgrid.FacetGrid at 0x17f06ccefd0>"
      ]
     },
     "execution_count": 89,
     "metadata": {},
     "output_type": "execute_result"
    },
    {
     "data": {
      "image/png": "[encoded data removed]",
      "text/plain": [
       "<Figure size 719.875x504 with 1 Axes>"
      ]
     },
     "metadata": {
      "needs_background": "light"
     },
     "output_type": "display_data"
    },
    {
     "data": {
      "image/png": "[encoded data removed]",
      "text/plain": [
       "<Figure size 719.875x504 with 1 Axes>"
      ]
     },
     "metadata": {
      "needs_background": "light"
     },
     "output_type": "display_data"
    },
    {
     "data": {
      "image/png": "[encoded data removed]",
      "text/plain": [
       "<Figure size 719.875x504 with 1 Axes>"
      ]
     },
     "metadata": {
      "needs_background": "light"
     },
     "output_type": "display_data"
    }
   ],
   "source": [
    "sns.lmplot(x='Serious_Crime_Number', y='Number_of_Arrests', hue='Race', height=7, data=NYPD_arrests_byYearRace)\n",
    "sns.lmplot(x='Young_Age', y='Number_of_Arrests', hue='Race', height=7, data=NYPD_arrests_byYearRace)\n",
    "sns.lmplot(x='Old_Age', y='Number_of_Arrests', hue='Race', height=7, data=NYPD_arrests_byYearRace)"
   ]
  },
  {
   "cell_type": "markdown",
   "metadata": {},
   "source": [
    "## Interpretation and Conclusions\n",
    "\n",
    "I started by breaking down number of arrests for white and black, as well as census data for black and white, both male and females, and comparing these values. When looking at all of the arrest data as a whole, one can see that New York City roughly half of all arrests involved black people. When looking at the census, a little under a third of the population identified as African American. In Austin, a quarter of people arrested were black. According to the census, only 10% of people identified as African American.\n",
    "\n",
    "When looking at these numbers, one must remember that everything has different time frames for years. So while this data might appear to indicate that people who identify as African American are arrested significantly more than the demographics would suggest they should be, if every race was arrested at an equal rate. While each race will never be arrested at the exact same rate as their representation in the census data because of the random nature of crime, one can start to make inferences when there is a significant disparity.\n",
    "\n",
    "After looking at the arrest records overall, using the census data as context, one could make some weak inferences that there is racial bias. I spent a lot of time trying contemplating how I could continue my investigation after my inital statistics.\n",
    "\n",
    "I came to the conclusion that I needed to incorporate time. The NYPD arrests has the longest timeframe and the most data overall, so I changed the focus of my investigation, shifting past my initial ideas for analysis. I knew that I needed to find to variables that I could find the correlation between them with regression.\n",
    "\n",
    "I spent some time cleaning up the NYPD Arrest Records, taking out inconsistent values from age group, arrest date, race, and the \"LAW_CAT_CD\" column, which represents the \"level\" of the crime (felony, misdemeanor, etc.). I needed to keep true to my overall research questions and analyze these based on race. So, I created a new dataframe with Year, Race and Number of Arrests. I created for loops that would find the number of rows that corresponded with every year and race combination and added them to this new dataframe.\n",
    "\n",
    "Next, I made some a scatter plot and looked at regression coefficients to investigate the relationship between the year, time, and the number of arrests. The slope of the regression was not very helpful here, as the scatter plot with all races came out with something that looked like an individual scatter plot for each race stacked on top of each other. There was not very much significant statistical analysis to be found here.\n",
    "\n",
    "I determined that separating out where race is black, would give me an easy relationship between number of arrests and time, where race is black. The slope of the regression line came out to slighly below zero, indicating a negative correlation: the number of arrests is going down over time, where race is black. This conclusion is very interesting, something that was not possible to be seen from the initial overall statistics. So while some might say there is general racial bias in policing after looking at the overall pie charts, one should also conclude that the racial bias in policing may be decreasing over time. To play the devil's advocate, this could just be an overall reduction in arrests over time and have nothing to do with race. But, I checked this by taking the sum of the last six years, where we can see an obvious dip in black people arrested, and comparing that to the sum of the six years before that. The difference is very small, indicating that it is more likely that there is a steady decrease in the percentage of arrests that are black people, not a decrease in the overall number of arrests.\n",
    "\n",
    "Next, I wanted to see how some other variables would correlate with the number of arrests. I wanted to look at Age and Crime Level. To do this, I created more columns in the newer dataframe, Young_Age, Old_Age and Serious_Crime_Number. Young Age consists of anyone under 25, Old age is 25 and over, and Serious Crime is anything that is a misdemeanor or felony. All of the slopes were positive, and Young Age had the highest slope value. This indicates that the younger a person is, the more likely they are to be arrested. It makes sense that they all have positive slopes, as for each year and race, increasing number of arrests based on something, will also increase the overall number of arrests. The significantt analysis from this is the difference in slope between these variables. The R-squared values were all really high, indicating a strong relationship between the regression and the points, but not offering any significant analysis. If the slope has a higher value, this should indicate that that variable has more of an impact on the overall number of arrests, for the speific year and race, showing a trend. Thus, I can conclude that Age has a fairly big impact on any race's likelihood to be arrested. Level of Crime or Number of Serious Crimes has a fairly low impact on the overall number of arrests.\n",
    "\n",
    "If I were to continue my analysis, I would look at the impact these variables have on each race's arrest numbers over time to build a better picture, more racial bias focused."
   ]
  },
  {
   "cell_type": "markdown",
   "metadata": {},
   "source": [
    "\n",
    "## Limitations\n",
    "\n",
    "This investigation was limited primarily by the nature of arrest records. Personal information is witheld in public datasets like these, no name or many distinctive features. I only had age and race as identifying variables here really, which forced me to get creative and look at arrest numbers by year and implement the census data for context.\n",
    "\n",
    "There were also limitations with the timeframes of every individual dataset. The Arrest records were more recent than the census data and they all have different lengths of time. The census data lined up, 2000 to 2010, so analysis was easier there, but APD arrest records were from 2014 to 2019 and NYPD arrest records were from 2006 - 2019. So I did consider breaking everything into four year chunks, but later decide to break everything down by year to attempt to find more significant analysis.\n",
    "\n",
    "My last limitation was that the census data was only aggregate data, not individual data. Meaning that there were no individual things that could be plotted on an X and Y axis, only summary statistics. But, my most interesting analysis from the arrest records did end up being aggregate data or sorts, so I'm not certain that the arrest records being individual data was very helpful. I did not realize this at first, and will be sure to look for variables that could be used in regression and analysis down the road before I commit to a dataset.\n"
   ]
  }
 ],
 "metadata": {
  "kernelspec": {
   "display_name": "Python 3 (ipykernel)",
   "language": "python",
   "name": "python3"
  },
  "language_info": {
   "codemirror_mode": {
    "name": "ipython",
    "version": 3
   },
   "file_extension": ".py",
   "mimetype": "text/x-python",
   "name": "python",
   "nbconvert_exporter": "python",
   "pygments_lexer": "ipython3",
   "version": "3.10.8"
  }
 },
 "nbformat": 4,
 "nbformat_minor": 4
}
